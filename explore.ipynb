{
 "cells": [
  {
   "cell_type": "markdown",
   "metadata": {},
   "source": [
    "# Spark Exploration"
   ]
  },
  {
   "cell_type": "code",
   "execution_count": 2,
   "metadata": {},
   "outputs": [
    {
     "name": "stdout",
     "output_type": "stream",
     "text": [
      "[wrangle.py] reading case.csv\n",
      "[wrangle.py] handling data types\n",
      "[wrangle.py] parsing dates\n",
      "[wrangle.py] adding features\n",
      "[wrangle.py] joining departments\n",
      "\n",
      "df shape: (841704, 20)\n",
      "\n",
      "-RECORD 0------------------------------------\n",
      " case_id              | 1014127332           \n",
      " case_opened_date     | 2018-01-01 00:42:00  \n",
      " case_closed_date     | 2018-01-01 12:29:00  \n",
      " case_due_date        | 2020-09-26 00:42:00  \n",
      " case_late            | false                \n",
      " num_days_late        | -998.5087616000001   \n",
      " case_closed          | true                 \n",
      " service_request_type | Stray Animal         \n",
      " SLA_days             | 999.0                \n",
      " case_status          | Closed               \n",
      " source_id            | svcCRMLS             \n",
      " request_address      | 2315  EL PASO ST,... \n",
      " council_district     | 005                  \n",
      " num_weeks_late       | -142.6441088         \n",
      " zipcode              | 78207                \n",
      " case_age             | 219                  \n",
      " days_to_closed       | 0                    \n",
      " case_lifetime        | 0                    \n",
      " department           | Animal Care Services \n",
      " dept_subject_to_SLA  | true                 \n",
      "only showing top 1 row\n",
      "\n"
     ]
    }
   ],
   "source": [
    "import warnings\n",
    "\n",
    "warnings.filterwarnings(\"ignore\")\n",
    "\n",
    "import pyspark.sql\n",
    "from pyspark.sql.functions import *\n",
    "\n",
    "import numpy as np\n",
    "import pandas as pd\n",
    "\n",
    "%matplotlib inline\n",
    "import matplotlib.pyplot as plt\n",
    "import seaborn as sns\n",
    "\n",
    "from wrangle import wrangle_311\n",
    "\n",
    "spark = pyspark.sql.SparkSession.builder.getOrCreate()\n",
    "\n",
    "df = wrangle_311(spark)\n",
    "print(\"\\ndf shape: (%d, %d)\\n\" % (df.count(), len(df.columns)))\n",
    "df.show(1, vertical=True)"
   ]
  },
  {
   "cell_type": "markdown",
   "metadata": {},
   "source": [
    "## Exercise 1\n",
    "How many different cases are there, by department?"
   ]
  },
  {
   "cell_type": "code",
   "execution_count": 2,
   "metadata": {
    "scrolled": true
   },
   "outputs": [
    {
     "name": "stdout",
     "output_type": "stream",
     "text": [
      "+--------------------+------+\n",
      "|          department| count|\n",
      "+--------------------+------+\n",
      "|         Solid Waste|279270|\n",
      "|Animal Care Services|116915|\n",
      "|Trans & Cap Impro...| 96193|\n",
      "|  Parks & Recreation| 19907|\n",
      "|    Customer Service|  2849|\n",
      "|        Metro Health|  5163|\n",
      "|        City Council|    33|\n",
      "|DSD/Code Enforcement|321374|\n",
      "+--------------------+------+\n",
      "\n"
     ]
    }
   ],
   "source": [
    "dept_cases = df.groupBy('department').count()\n",
    "dept_cases.show()"
   ]
  },
  {
   "cell_type": "code",
   "execution_count": 41,
   "metadata": {},
   "outputs": [
    {
     "data": {
      "image/png": "[encoded data removed]",
      "text/plain": [
       "<Figure size 1008x360 with 1 Axes>"
      ]
     },
     "metadata": {
      "needs_background": "light"
     },
     "output_type": "display_data"
    }
   ],
   "source": [
    "case_count = (\n",
    "    df.groupBy(\"department\")\n",
    "    .count()\n",
    "    .toPandas()\n",
    "    .set_index(\"department\")[\"count\"]\n",
    "    .sort_values(ascending=False)\n",
    ")\n",
    "\n",
    "case_count.plot.barh(width=1, edgecolor=\"black\", figsize=(14, 5))\n",
    "plt.title(\"Number of Cases By Department\")\n",
    "plt.ylabel(\"\")\n",
    "plt.xlabel(\"Number of Cases\")\n",
    "plt.xlim(0, 360000)\n",
    "\n",
    "for index, width in enumerate(case_count):\n",
    "    plt.text(width+3000, index, width, va=\"center\")\n",
    "    \n",
    "plt.show()"
   ]
  },
  {
   "cell_type": "code",
   "execution_count": 29,
   "metadata": {},
   "outputs": [
    {
     "data": {
      "text/plain": [
       "department\n",
       "DSD/Code Enforcement        321374\n",
       "Solid Waste                 279270\n",
       "Animal Care Services        116915\n",
       "Trans & Cap Improvements     96193\n",
       "Parks & Recreation           19907\n",
       "Metro Health                  5163\n",
       "Customer Service              2849\n",
       "City Council                    33\n",
       "Name: count, dtype: int64"
      ]
     },
     "execution_count": 29,
     "metadata": {},
     "output_type": "execute_result"
    }
   ],
   "source": [
    "case_count"
   ]
  },
  {
   "cell_type": "code",
   "execution_count": 3,
   "metadata": {},
   "outputs": [
    {
     "name": "stdout",
     "output_type": "stream",
     "text": [
      "+------------------------+------+-----+\n",
      "|department              |Closed|Open |\n",
      "+------------------------+------+-----+\n",
      "|City Council            |4     |29   |\n",
      "|Customer Service        |1684  |1165 |\n",
      "|Metro Health            |5088  |75   |\n",
      "|Parks & Recreation      |19511 |396  |\n",
      "|Trans & Cap Improvements|93962 |2231 |\n",
      "|Animal Care Services    |116446|469  |\n",
      "|Solid Waste             |277660|1610 |\n",
      "|DSD/Code Enforcement    |309239|12135|\n",
      "+------------------------+------+-----+\n",
      "\n"
     ]
    }
   ],
   "source": [
    "(\n",
    "    df.groupBy(\"department\")\n",
    "    .pivot(\"case_status\")\n",
    "    .agg(count(\"case_lifetime\"))\n",
    "    .orderBy(\"Closed\")\n",
    "    .show(truncate=False)\n",
    ")"
   ]
  },
  {
   "cell_type": "markdown",
   "metadata": {},
   "source": [
    "## Exercise 2\n",
    "Does the percentage of cases that are late vary by department?"
   ]
  },
  {
   "cell_type": "code",
   "execution_count": 19,
   "metadata": {},
   "outputs": [],
   "source": [
    "late_by_dept = (\n",
    "    df.groupBy(\"department\")\n",
    "    .pivot(\"case_late\")\n",
    "    .agg(count(\"case_lifetime\"))\n",
    "    .toPandas()\n",
    "    \n",
    ")"
   ]
  },
  {
   "cell_type": "code",
   "execution_count": 20,
   "metadata": {
    "scrolled": true
   },
   "outputs": [
    {
     "data": {
      "text/html": [
       "<div>\n",
       "<style scoped>\n",
       "    .dataframe tbody tr th:only-of-type {\n",
       "        vertical-align: middle;\n",
       "    }\n",
       "\n",
       "    .dataframe tbody tr th {\n",
       "        vertical-align: top;\n",
       "    }\n",
       "\n",
       "    .dataframe thead th {\n",
       "        text-align: right;\n",
       "    }\n",
       "</style>\n",
       "<table border=\"1\" class=\"dataframe\">\n",
       "  <thead>\n",
       "    <tr style=\"text-align: right;\">\n",
       "      <th></th>\n",
       "      <th>department</th>\n",
       "      <th>false</th>\n",
       "      <th>true</th>\n",
       "    </tr>\n",
       "  </thead>\n",
       "  <tbody>\n",
       "    <tr>\n",
       "      <th>0</th>\n",
       "      <td>Solid Waste</td>\n",
       "      <td>246325</td>\n",
       "      <td>32945.0</td>\n",
       "    </tr>\n",
       "    <tr>\n",
       "      <th>1</th>\n",
       "      <td>Animal Care Services</td>\n",
       "      <td>93639</td>\n",
       "      <td>23276.0</td>\n",
       "    </tr>\n",
       "    <tr>\n",
       "      <th>2</th>\n",
       "      <td>Trans &amp; Cap Improvements</td>\n",
       "      <td>90782</td>\n",
       "      <td>5411.0</td>\n",
       "    </tr>\n",
       "    <tr>\n",
       "      <th>3</th>\n",
       "      <td>Customer Service</td>\n",
       "      <td>839</td>\n",
       "      <td>2010.0</td>\n",
       "    </tr>\n",
       "    <tr>\n",
       "      <th>4</th>\n",
       "      <td>Parks &amp; Recreation</td>\n",
       "      <td>16110</td>\n",
       "      <td>3797.0</td>\n",
       "    </tr>\n",
       "    <tr>\n",
       "      <th>5</th>\n",
       "      <td>Metro Health</td>\n",
       "      <td>4334</td>\n",
       "      <td>829.0</td>\n",
       "    </tr>\n",
       "    <tr>\n",
       "      <th>6</th>\n",
       "      <td>City Council</td>\n",
       "      <td>33</td>\n",
       "      <td>NaN</td>\n",
       "    </tr>\n",
       "    <tr>\n",
       "      <th>7</th>\n",
       "      <td>DSD/Code Enforcement</td>\n",
       "      <td>295139</td>\n",
       "      <td>26235.0</td>\n",
       "    </tr>\n",
       "  </tbody>\n",
       "</table>\n",
       "</div>"
      ],
      "text/plain": [
       "                 department   false     true\n",
       "0               Solid Waste  246325  32945.0\n",
       "1      Animal Care Services   93639  23276.0\n",
       "2  Trans & Cap Improvements   90782   5411.0\n",
       "3          Customer Service     839   2010.0\n",
       "4        Parks & Recreation   16110   3797.0\n",
       "5              Metro Health    4334    829.0\n",
       "6              City Council      33      NaN\n",
       "7      DSD/Code Enforcement  295139  26235.0"
      ]
     },
     "execution_count": 20,
     "metadata": {},
     "output_type": "execute_result"
    }
   ],
   "source": [
    "late_by_dept"
   ]
  },
  {
   "cell_type": "code",
   "execution_count": 6,
   "metadata": {},
   "outputs": [],
   "source": [
    "late_by_dept = late_by_dept.fillna(0)"
   ]
  },
  {
   "cell_type": "code",
   "execution_count": 7,
   "metadata": {},
   "outputs": [],
   "source": [
    "late_by_dept['percentage'] = late_by_dept.true / (late_by_dept.true + late_by_dept.false) "
   ]
  },
  {
   "cell_type": "code",
   "execution_count": 8,
   "metadata": {},
   "outputs": [
    {
     "data": {
      "text/html": [
       "<div>\n",
       "<style scoped>\n",
       "    .dataframe tbody tr th:only-of-type {\n",
       "        vertical-align: middle;\n",
       "    }\n",
       "\n",
       "    .dataframe tbody tr th {\n",
       "        vertical-align: top;\n",
       "    }\n",
       "\n",
       "    .dataframe thead th {\n",
       "        text-align: right;\n",
       "    }\n",
       "</style>\n",
       "<table border=\"1\" class=\"dataframe\">\n",
       "  <thead>\n",
       "    <tr style=\"text-align: right;\">\n",
       "      <th></th>\n",
       "      <th>department</th>\n",
       "      <th>false</th>\n",
       "      <th>true</th>\n",
       "      <th>percentage</th>\n",
       "    </tr>\n",
       "  </thead>\n",
       "  <tbody>\n",
       "    <tr>\n",
       "      <th>0</th>\n",
       "      <td>Solid Waste</td>\n",
       "      <td>246325</td>\n",
       "      <td>32945.0</td>\n",
       "      <td>0.117968</td>\n",
       "    </tr>\n",
       "    <tr>\n",
       "      <th>1</th>\n",
       "      <td>Animal Care Services</td>\n",
       "      <td>93639</td>\n",
       "      <td>23276.0</td>\n",
       "      <td>0.199085</td>\n",
       "    </tr>\n",
       "    <tr>\n",
       "      <th>2</th>\n",
       "      <td>Trans &amp; Cap Improvements</td>\n",
       "      <td>90782</td>\n",
       "      <td>5411.0</td>\n",
       "      <td>0.056251</td>\n",
       "    </tr>\n",
       "    <tr>\n",
       "      <th>3</th>\n",
       "      <td>Customer Service</td>\n",
       "      <td>839</td>\n",
       "      <td>2010.0</td>\n",
       "      <td>0.705511</td>\n",
       "    </tr>\n",
       "    <tr>\n",
       "      <th>4</th>\n",
       "      <td>Parks &amp; Recreation</td>\n",
       "      <td>16110</td>\n",
       "      <td>3797.0</td>\n",
       "      <td>0.190737</td>\n",
       "    </tr>\n",
       "    <tr>\n",
       "      <th>5</th>\n",
       "      <td>Metro Health</td>\n",
       "      <td>4334</td>\n",
       "      <td>829.0</td>\n",
       "      <td>0.160566</td>\n",
       "    </tr>\n",
       "    <tr>\n",
       "      <th>6</th>\n",
       "      <td>City Council</td>\n",
       "      <td>33</td>\n",
       "      <td>0.0</td>\n",
       "      <td>0.000000</td>\n",
       "    </tr>\n",
       "    <tr>\n",
       "      <th>7</th>\n",
       "      <td>DSD/Code Enforcement</td>\n",
       "      <td>295139</td>\n",
       "      <td>26235.0</td>\n",
       "      <td>0.081634</td>\n",
       "    </tr>\n",
       "  </tbody>\n",
       "</table>\n",
       "</div>"
      ],
      "text/plain": [
       "                 department   false     true  percentage\n",
       "0               Solid Waste  246325  32945.0    0.117968\n",
       "1      Animal Care Services   93639  23276.0    0.199085\n",
       "2  Trans & Cap Improvements   90782   5411.0    0.056251\n",
       "3          Customer Service     839   2010.0    0.705511\n",
       "4        Parks & Recreation   16110   3797.0    0.190737\n",
       "5              Metro Health    4334    829.0    0.160566\n",
       "6              City Council      33      0.0    0.000000\n",
       "7      DSD/Code Enforcement  295139  26235.0    0.081634"
      ]
     },
     "execution_count": 8,
     "metadata": {},
     "output_type": "execute_result"
    }
   ],
   "source": [
    "late_by_dept"
   ]
  },
  {
   "cell_type": "code",
   "execution_count": 32,
   "metadata": {},
   "outputs": [
    {
     "data": {
      "image/png": "[encoded data removed]",
      "text/plain": [
       "<Figure size 1008x360 with 1 Axes>"
      ]
     },
     "metadata": {
      "needs_background": "light"
     },
     "output_type": "display_data"
    }
   ],
   "source": [
    "late_by_dept.set_index(\"department\").percentage.plot.barh(width=1, edgecolor=\"black\", figsize=(14, 5))\n",
    "plt.ylabel('Percentage')\n",
    "plt.xlabel('Department')\n",
    "plt.title('Percentage of Cases by Department')\n",
    "plt.show()"
   ]
  },
  {
   "cell_type": "code",
   "execution_count": 27,
   "metadata": {},
   "outputs": [
    {
     "name": "stdout",
     "output_type": "stream",
     "text": [
      "+------------------------+-----+--------+-----------+--------------+\n",
      "|department              |late |not_late|total_cases|pct_cases_late|\n",
      "+------------------------+-----+--------+-----------+--------------+\n",
      "|Animal Care Services    |23276|93639   |116915     |0.199         |\n",
      "|City Council            |0    |33      |0          |0.0           |\n",
      "|Customer Service        |2010 |839     |2849       |0.706         |\n",
      "|DSD/Code Enforcement    |26235|295139  |321374     |0.082         |\n",
      "|Metro Health            |829  |4334    |5163       |0.161         |\n",
      "|Parks & Recreation      |3797 |16110   |19907      |0.191         |\n",
      "|Solid Waste             |32945|246325  |279270     |0.118         |\n",
      "|Trans & Cap Improvements|5411 |90782   |96193      |0.056         |\n",
      "+------------------------+-----+--------+-----------+--------------+\n",
      "\n"
     ]
    }
   ],
   "source": [
    "(\n",
    "    df.groupby('department')\n",
    "    .pivot('case_late')\n",
    "    .count()\n",
    "    .select('department',\n",
    "            col('true').alias('late'),\n",
    "            col('false').alias('not_late'),\n",
    "            (col('true') + col('false')).alias('total_cases'),\n",
    "             round((col('true') / (col('true') + col('false'))), 3).alias('pct_cases_late'))\n",
    "    .na.fill(0)\n",
    "    .sort('department')\n",
    "    .show(truncate=False)\n",
    ")"
   ]
  },
  {
   "cell_type": "markdown",
   "metadata": {},
   "source": [
    "## Exercise 3\n",
    "On average, how late are the late cases by department?"
   ]
  },
  {
   "cell_type": "code",
   "execution_count": 9,
   "metadata": {},
   "outputs": [
    {
     "name": "stdout",
     "output_type": "stream",
     "text": [
      "+--------------------+-------------------+\n",
      "|          department|  avg_num_days_late|\n",
      "+--------------------+-------------------+\n",
      "|         Solid Waste| -2.193864424022545|\n",
      "|Animal Care Services|-226.16549770717506|\n",
      "|Trans & Cap Impro...|-20.509793501785314|\n",
      "|  Parks & Recreation| -5.283345998745901|\n",
      "|    Customer Service|  59.49019459221518|\n",
      "|        Metro Health| -4.904223205386017|\n",
      "|        City Council|               null|\n",
      "|DSD/Code Enforcement| -38.32346772537388|\n",
      "+--------------------+-------------------+\n",
      "\n"
     ]
    }
   ],
   "source": [
    "df.groupBy(\"department\").agg(mean(\"num_days_late\").alias(\"avg_num_days_late\")).show()"
   ]
  },
  {
   "cell_type": "code",
   "execution_count": 10,
   "metadata": {},
   "outputs": [
    {
     "data": {
      "image/png": "[encoded data removed]",
      "text/plain": [
       "<Figure size 1008x360 with 1 Axes>"
      ]
     },
     "metadata": {
      "needs_background": "light"
     },
     "output_type": "display_data"
    }
   ],
   "source": [
    "(\n",
    "    df.groupBy(\"department\")\n",
    "    .agg(mean(\"num_days_late\").alias(\"count_num_days_late\"))\n",
    "    # then pass the data to pandas for visualization\n",
    "    .toPandas()\n",
    "    .set_index(\"department\")\n",
    "    .count_num_days_late.sort_values(ascending=False)\n",
    "    .plot.barh(width=1, edgecolor=\"black\", figsize=(14, 5))\n",
    ")\n",
    "\n",
    "plt.xlabel(\"Average Number of Late Cases\")\n",
    "plt.ylabel(\"Departments\")\n",
    "plt.title(\"Late Cases By Department\")\n",
    "plt.show()"
   ]
  },
  {
   "cell_type": "markdown",
   "metadata": {},
   "source": [
    "## Exercise 4\n",
    "What is the service type that is the most late? "
   ]
  },
  {
   "cell_type": "code",
   "execution_count": 11,
   "metadata": {},
   "outputs": [
    {
     "data": {
      "text/html": [
       "<div>\n",
       "<style scoped>\n",
       "    .dataframe tbody tr th:only-of-type {\n",
       "        vertical-align: middle;\n",
       "    }\n",
       "\n",
       "    .dataframe tbody tr th {\n",
       "        vertical-align: top;\n",
       "    }\n",
       "\n",
       "    .dataframe thead th {\n",
       "        text-align: right;\n",
       "    }\n",
       "</style>\n",
       "<table border=\"1\" class=\"dataframe\">\n",
       "  <thead>\n",
       "    <tr style=\"text-align: right;\">\n",
       "      <th></th>\n",
       "      <th>service_request_type</th>\n",
       "      <th>avg_num_days_late</th>\n",
       "    </tr>\n",
       "  </thead>\n",
       "  <tbody>\n",
       "    <tr>\n",
       "      <th>256</th>\n",
       "      <td>Engineering Design</td>\n",
       "      <td>-1399.127234</td>\n",
       "    </tr>\n",
       "    <tr>\n",
       "      <th>85</th>\n",
       "      <td>Signal Timing Modification By Engineer</td>\n",
       "      <td>-1247.079780</td>\n",
       "    </tr>\n",
       "    <tr>\n",
       "      <th>172</th>\n",
       "      <td>Stray Animal</td>\n",
       "      <td>-998.804573</td>\n",
       "    </tr>\n",
       "    <tr>\n",
       "      <th>23</th>\n",
       "      <td>Major Park Improvement Install</td>\n",
       "      <td>-280.254624</td>\n",
       "    </tr>\n",
       "    <tr>\n",
       "      <th>311</th>\n",
       "      <td>Sidewalk Cost Sharing Program</td>\n",
       "      <td>-184.876261</td>\n",
       "    </tr>\n",
       "    <tr>\n",
       "      <th>225</th>\n",
       "      <td>Multi Tenant Exterior</td>\n",
       "      <td>-135.715881</td>\n",
       "    </tr>\n",
       "    <tr>\n",
       "      <th>34</th>\n",
       "      <td>CPS Energy Towers</td>\n",
       "      <td>-129.847787</td>\n",
       "    </tr>\n",
       "    <tr>\n",
       "      <th>132</th>\n",
       "      <td>CPS Energy Wood Poles</td>\n",
       "      <td>-129.309052</td>\n",
       "    </tr>\n",
       "    <tr>\n",
       "      <th>212</th>\n",
       "      <td>CPS Energy Metal Poles</td>\n",
       "      <td>-129.179198</td>\n",
       "    </tr>\n",
       "    <tr>\n",
       "      <th>50</th>\n",
       "      <td>Multi Tenant Interior</td>\n",
       "      <td>-125.143186</td>\n",
       "    </tr>\n",
       "  </tbody>\n",
       "</table>\n",
       "</div>"
      ],
      "text/plain": [
       "                       service_request_type  avg_num_days_late\n",
       "256                      Engineering Design       -1399.127234\n",
       "85   Signal Timing Modification By Engineer       -1247.079780\n",
       "172                            Stray Animal        -998.804573\n",
       "23           Major Park Improvement Install        -280.254624\n",
       "311           Sidewalk Cost Sharing Program        -184.876261\n",
       "225                   Multi Tenant Exterior        -135.715881\n",
       "34                        CPS Energy Towers        -129.847787\n",
       "132                   CPS Energy Wood Poles        -129.309052\n",
       "212                  CPS Energy Metal Poles        -129.179198\n",
       "50                    Multi Tenant Interior        -125.143186"
      ]
     },
     "execution_count": 11,
     "metadata": {},
     "output_type": "execute_result"
    }
   ],
   "source": [
    "(\n",
    "    df.groupBy(\"service_request_type\")\n",
    "    .agg(mean(\"num_days_late\").alias(\"avg_num_days_late\"))\n",
    "    .toPandas()\n",
    "    .sort_values('avg_num_days_late')\n",
    "    .head(10)\n",
    ")"
   ]
  },
  {
   "cell_type": "code",
   "execution_count": 12,
   "metadata": {},
   "outputs": [
    {
     "data": {
      "image/png": "[encoded data removed]",
      "text/plain": [
       "<Figure size 1008x360 with 1 Axes>"
      ]
     },
     "metadata": {
      "needs_background": "light"
     },
     "output_type": "display_data"
    }
   ],
   "source": [
    "(\n",
    "    df.groupBy(\"service_request_type\")\n",
    "    .agg(mean(\"num_days_late\").alias(\"avg_num_days_late\"))\n",
    "    .toPandas()\n",
    "    .set_index(\"service_request_type\")\n",
    "    .sort_values('avg_num_days_late')\n",
    "    .head(10)\n",
    "    .plot.barh(width=1, edgecolor=\"black\", figsize=(14, 5))\n",
    ")\n",
    "\n",
    "plt.xlabel(\"Average Number of Late Days\")\n",
    "plt.ylabel(\"Service Request Type\")\n",
    "plt.title(\"Late Days by Service Request Type\")\n",
    "plt.show()"
   ]
  },
  {
   "cell_type": "markdown",
   "metadata": {},
   "source": [
    "Just for Parks & Rec?"
   ]
  },
  {
   "cell_type": "code",
   "execution_count": 13,
   "metadata": {},
   "outputs": [
    {
     "data": {
      "text/html": [
       "<div>\n",
       "<style scoped>\n",
       "    .dataframe tbody tr th:only-of-type {\n",
       "        vertical-align: middle;\n",
       "    }\n",
       "\n",
       "    .dataframe tbody tr th {\n",
       "        vertical-align: top;\n",
       "    }\n",
       "\n",
       "    .dataframe thead th {\n",
       "        text-align: right;\n",
       "    }\n",
       "</style>\n",
       "<table border=\"1\" class=\"dataframe\">\n",
       "  <thead>\n",
       "    <tr style=\"text-align: right;\">\n",
       "      <th></th>\n",
       "      <th>service_request_type</th>\n",
       "      <th>avg_num_days_late</th>\n",
       "    </tr>\n",
       "  </thead>\n",
       "  <tbody>\n",
       "    <tr>\n",
       "      <th>3</th>\n",
       "      <td>Major Park Improvement Install</td>\n",
       "      <td>-280.254624</td>\n",
       "    </tr>\n",
       "    <tr>\n",
       "      <th>13</th>\n",
       "      <td>Heavy Equipment</td>\n",
       "      <td>-16.755152</td>\n",
       "    </tr>\n",
       "    <tr>\n",
       "      <th>40</th>\n",
       "      <td>Pressure Washing</td>\n",
       "      <td>-10.508968</td>\n",
       "    </tr>\n",
       "    <tr>\n",
       "      <th>8</th>\n",
       "      <td>Small Equipment Repair</td>\n",
       "      <td>-10.170168</td>\n",
       "    </tr>\n",
       "    <tr>\n",
       "      <th>15</th>\n",
       "      <td>Irrigation</td>\n",
       "      <td>-9.613467</td>\n",
       "    </tr>\n",
       "    <tr>\n",
       "      <th>11</th>\n",
       "      <td>Landscape Maintenance</td>\n",
       "      <td>-7.136652</td>\n",
       "    </tr>\n",
       "    <tr>\n",
       "      <th>39</th>\n",
       "      <td>Playgrounds</td>\n",
       "      <td>-6.624962</td>\n",
       "    </tr>\n",
       "    <tr>\n",
       "      <th>23</th>\n",
       "      <td>Heating and Air Conditioning</td>\n",
       "      <td>-5.772702</td>\n",
       "    </tr>\n",
       "    <tr>\n",
       "      <th>21</th>\n",
       "      <td>Amenity Park Improvement Int</td>\n",
       "      <td>-5.411794</td>\n",
       "    </tr>\n",
       "    <tr>\n",
       "      <th>27</th>\n",
       "      <td>Lake and Ponds Maintenance</td>\n",
       "      <td>-4.785778</td>\n",
       "    </tr>\n",
       "  </tbody>\n",
       "</table>\n",
       "</div>"
      ],
      "text/plain": [
       "              service_request_type  avg_num_days_late\n",
       "3   Major Park Improvement Install        -280.254624\n",
       "13                 Heavy Equipment         -16.755152\n",
       "40                Pressure Washing         -10.508968\n",
       "8           Small Equipment Repair         -10.170168\n",
       "15                      Irrigation          -9.613467\n",
       "11           Landscape Maintenance          -7.136652\n",
       "39                     Playgrounds          -6.624962\n",
       "23    Heating and Air Conditioning          -5.772702\n",
       "21    Amenity Park Improvement Int          -5.411794\n",
       "27      Lake and Ponds Maintenance          -4.785778"
      ]
     },
     "execution_count": 13,
     "metadata": {},
     "output_type": "execute_result"
    }
   ],
   "source": [
    "(\n",
    "    df.filter(df.department == 'Parks & Recreation')\n",
    "    .groupby('service_request_type')\n",
    "    .agg(mean(\"num_days_late\").alias(\"avg_num_days_late\"))\n",
    "    .toPandas()\n",
    "    .sort_values('avg_num_days_late')\n",
    "    .head(10)\n",
    ")"
   ]
  },
  {
   "cell_type": "code",
   "execution_count": 14,
   "metadata": {},
   "outputs": [
    {
     "data": {
      "image/png": "[encoded data removed]",
      "text/plain": [
       "<Figure size 1008x360 with 1 Axes>"
      ]
     },
     "metadata": {
      "needs_background": "light"
     },
     "output_type": "display_data"
    }
   ],
   "source": [
    "(\n",
    "    df.filter(df.department == 'Parks & Recreation')\n",
    "    .groupby('service_request_type')\n",
    "    .agg(mean(\"num_days_late\").alias(\"avg_num_days_late\"))\n",
    "    .toPandas()\n",
    "    .set_index(\"service_request_type\")\n",
    "    .sort_values('avg_num_days_late')\n",
    "    .head(10)\n",
    "    .plot.barh(width=1, edgecolor=\"black\", figsize=(14, 5))\n",
    ")\n",
    "plt.xlabel(\"Average Number of Late Days\")\n",
    "plt.ylabel(\"Service Request Type\")\n",
    "plt.title(\"Late Days by Service Request Type for Parks & Recreation\")\n",
    "plt.show()"
   ]
  },
  {
   "cell_type": "markdown",
   "metadata": {},
   "source": [
    "## Exercise 5\n",
    "For the DSD/Code Enforcement department, what are the most common service request types? Look at other departments too."
   ]
  },
  {
   "cell_type": "code",
   "execution_count": 15,
   "metadata": {},
   "outputs": [
    {
     "data": {
      "text/html": [
       "<div>\n",
       "<style scoped>\n",
       "    .dataframe tbody tr th:only-of-type {\n",
       "        vertical-align: middle;\n",
       "    }\n",
       "\n",
       "    .dataframe tbody tr th {\n",
       "        vertical-align: top;\n",
       "    }\n",
       "\n",
       "    .dataframe thead th {\n",
       "        text-align: right;\n",
       "    }\n",
       "</style>\n",
       "<table border=\"1\" class=\"dataframe\">\n",
       "  <thead>\n",
       "    <tr style=\"text-align: right;\">\n",
       "      <th></th>\n",
       "      <th>num_of_request</th>\n",
       "    </tr>\n",
       "    <tr>\n",
       "      <th>service_request_type</th>\n",
       "      <th></th>\n",
       "    </tr>\n",
       "  </thead>\n",
       "  <tbody>\n",
       "    <tr>\n",
       "      <th>Overgrown Yard/Trash</th>\n",
       "      <td>65895</td>\n",
       "    </tr>\n",
       "    <tr>\n",
       "      <th>Bandit Signs</th>\n",
       "      <td>32910</td>\n",
       "    </tr>\n",
       "    <tr>\n",
       "      <th>Front Or Side Yard Parking</th>\n",
       "      <td>28794</td>\n",
       "    </tr>\n",
       "    <tr>\n",
       "      <th>Junk Vehicle On Private Property</th>\n",
       "      <td>21473</td>\n",
       "    </tr>\n",
       "    <tr>\n",
       "      <th>Alley-Way Maintenance</th>\n",
       "      <td>20214</td>\n",
       "    </tr>\n",
       "  </tbody>\n",
       "</table>\n",
       "</div>"
      ],
      "text/plain": [
       "                                  num_of_request\n",
       "service_request_type                            \n",
       "Overgrown Yard/Trash                       65895\n",
       "Bandit Signs                               32910\n",
       "Front Or Side Yard Parking                 28794\n",
       "Junk Vehicle On Private Property           21473\n",
       "Alley-Way Maintenance                      20214"
      ]
     },
     "execution_count": 15,
     "metadata": {},
     "output_type": "execute_result"
    }
   ],
   "source": [
    "(\n",
    "    df.filter(df.department == 'DSD/Code Enforcement')\n",
    "    .groupBy('service_request_type')\n",
    "    .agg(count(\"service_request_type\").alias(\"num_of_request\"))\n",
    "    .toPandas()\n",
    "    .set_index('service_request_type')\n",
    "    .sort_values('num_of_request', ascending = False)\n",
    "    .head(5)\n",
    ")"
   ]
  },
  {
   "cell_type": "code",
   "execution_count": 16,
   "metadata": {},
   "outputs": [
    {
     "data": {
      "text/html": [
       "<div>\n",
       "<style scoped>\n",
       "    .dataframe tbody tr th:only-of-type {\n",
       "        vertical-align: middle;\n",
       "    }\n",
       "\n",
       "    .dataframe tbody tr th {\n",
       "        vertical-align: top;\n",
       "    }\n",
       "\n",
       "    .dataframe thead th {\n",
       "        text-align: right;\n",
       "    }\n",
       "</style>\n",
       "<table border=\"1\" class=\"dataframe\">\n",
       "  <thead>\n",
       "    <tr style=\"text-align: right;\">\n",
       "      <th></th>\n",
       "      <th>num_of_request</th>\n",
       "    </tr>\n",
       "    <tr>\n",
       "      <th>service_request_type</th>\n",
       "      <th></th>\n",
       "    </tr>\n",
       "  </thead>\n",
       "  <tbody>\n",
       "    <tr>\n",
       "      <th>Stray Animal</th>\n",
       "      <td>26760</td>\n",
       "    </tr>\n",
       "    <tr>\n",
       "      <th>Aggressive Animal(Non-Critical)</th>\n",
       "      <td>24882</td>\n",
       "    </tr>\n",
       "    <tr>\n",
       "      <th>Animal Neglect</th>\n",
       "      <td>13441</td>\n",
       "    </tr>\n",
       "    <tr>\n",
       "      <th>Trapped/Confined Animal</th>\n",
       "      <td>11354</td>\n",
       "    </tr>\n",
       "    <tr>\n",
       "      <th>Public Nuisance(Own Animal)</th>\n",
       "      <td>10715</td>\n",
       "    </tr>\n",
       "  </tbody>\n",
       "</table>\n",
       "</div>"
      ],
      "text/plain": [
       "                                 num_of_request\n",
       "service_request_type                           \n",
       "Stray Animal                              26760\n",
       "Aggressive Animal(Non-Critical)           24882\n",
       "Animal Neglect                            13441\n",
       "Trapped/Confined Animal                   11354\n",
       "Public Nuisance(Own Animal)               10715"
      ]
     },
     "execution_count": 16,
     "metadata": {},
     "output_type": "execute_result"
    }
   ],
   "source": [
    "(\n",
    "    df.filter(df.department == 'Animal Care Services')\n",
    "    .groupBy('service_request_type')\n",
    "    .agg(count(\"service_request_type\").alias(\"num_of_request\"))\n",
    "    .toPandas()\n",
    "    .set_index('service_request_type')\n",
    "    .sort_values('num_of_request', ascending = False)\n",
    "    .head(5)\n",
    ")"
   ]
  },
  {
   "cell_type": "code",
   "execution_count": 17,
   "metadata": {},
   "outputs": [
    {
     "data": {
      "text/html": [
       "<div>\n",
       "<style scoped>\n",
       "    .dataframe tbody tr th:only-of-type {\n",
       "        vertical-align: middle;\n",
       "    }\n",
       "\n",
       "    .dataframe tbody tr th {\n",
       "        vertical-align: top;\n",
       "    }\n",
       "\n",
       "    .dataframe thead th {\n",
       "        text-align: right;\n",
       "    }\n",
       "</style>\n",
       "<table border=\"1\" class=\"dataframe\">\n",
       "  <thead>\n",
       "    <tr style=\"text-align: right;\">\n",
       "      <th></th>\n",
       "      <th>num_of_request</th>\n",
       "    </tr>\n",
       "    <tr>\n",
       "      <th>service_request_type</th>\n",
       "      <th></th>\n",
       "    </tr>\n",
       "  </thead>\n",
       "  <tbody>\n",
       "    <tr>\n",
       "      <th>No Pickup</th>\n",
       "      <td>86855</td>\n",
       "    </tr>\n",
       "    <tr>\n",
       "      <th>Damaged Cart</th>\n",
       "      <td>30338</td>\n",
       "    </tr>\n",
       "    <tr>\n",
       "      <th>Cart Exchange Request</th>\n",
       "      <td>22024</td>\n",
       "    </tr>\n",
       "    <tr>\n",
       "      <th>Lost/Stolen Cart</th>\n",
       "      <td>18731</td>\n",
       "    </tr>\n",
       "    <tr>\n",
       "      <th>Dead Animal - Dog</th>\n",
       "      <td>16714</td>\n",
       "    </tr>\n",
       "  </tbody>\n",
       "</table>\n",
       "</div>"
      ],
      "text/plain": [
       "                       num_of_request\n",
       "service_request_type                 \n",
       "No Pickup                       86855\n",
       "Damaged Cart                    30338\n",
       "Cart Exchange Request           22024\n",
       "Lost/Stolen Cart                18731\n",
       "Dead Animal - Dog               16714"
      ]
     },
     "execution_count": 17,
     "metadata": {},
     "output_type": "execute_result"
    }
   ],
   "source": [
    "(\n",
    "    df.filter(df.department == 'Solid Waste')\n",
    "    .groupBy('service_request_type')\n",
    "    .agg(count(\"service_request_type\").alias(\"num_of_request\"))\n",
    "    .toPandas()\n",
    "    .set_index('service_request_type')\n",
    "    .sort_values('num_of_request', ascending = False)\n",
    "    .head(5)\n",
    ")"
   ]
  },
  {
   "cell_type": "code",
   "execution_count": 18,
   "metadata": {},
   "outputs": [
    {
     "data": {
      "text/html": [
       "<div>\n",
       "<style scoped>\n",
       "    .dataframe tbody tr th:only-of-type {\n",
       "        vertical-align: middle;\n",
       "    }\n",
       "\n",
       "    .dataframe tbody tr th {\n",
       "        vertical-align: top;\n",
       "    }\n",
       "\n",
       "    .dataframe thead th {\n",
       "        text-align: right;\n",
       "    }\n",
       "</style>\n",
       "<table border=\"1\" class=\"dataframe\">\n",
       "  <thead>\n",
       "    <tr style=\"text-align: right;\">\n",
       "      <th></th>\n",
       "      <th>num_of_request</th>\n",
       "    </tr>\n",
       "    <tr>\n",
       "      <th>service_request_type</th>\n",
       "      <th></th>\n",
       "    </tr>\n",
       "  </thead>\n",
       "  <tbody>\n",
       "    <tr>\n",
       "      <th>Pot Hole Repair</th>\n",
       "      <td>20616</td>\n",
       "    </tr>\n",
       "    <tr>\n",
       "      <th>Traffic Signal Ops and Maintenance - Emergency</th>\n",
       "      <td>7997</td>\n",
       "    </tr>\n",
       "    <tr>\n",
       "      <th>Traffic Sign Missing/Down</th>\n",
       "      <td>5674</td>\n",
       "    </tr>\n",
       "    <tr>\n",
       "      <th>Base/Pavement Repair</th>\n",
       "      <td>5385</td>\n",
       "    </tr>\n",
       "    <tr>\n",
       "      <th>Signal Timing Modification</th>\n",
       "      <td>4414</td>\n",
       "    </tr>\n",
       "  </tbody>\n",
       "</table>\n",
       "</div>"
      ],
      "text/plain": [
       "                                                num_of_request\n",
       "service_request_type                                          \n",
       "Pot Hole Repair                                          20616\n",
       "Traffic Signal Ops and Maintenance - Emergency            7997\n",
       "Traffic Sign Missing/Down                                 5674\n",
       "Base/Pavement Repair                                      5385\n",
       "Signal Timing Modification                                4414"
      ]
     },
     "execution_count": 18,
     "metadata": {},
     "output_type": "execute_result"
    }
   ],
   "source": [
    "(\n",
    "    df.filter(df.department == 'Trans & Cap Improvements')\n",
    "    .groupBy('service_request_type')\n",
    "    .agg(count(\"service_request_type\").alias(\"num_of_request\"))\n",
    "    .toPandas()\n",
    "    .set_index('service_request_type')\n",
    "    .sort_values('num_of_request', ascending = False)\n",
    "    .head(5)\n",
    ")"
   ]
  },
  {
   "cell_type": "code",
   "execution_count": 19,
   "metadata": {},
   "outputs": [
    {
     "data": {
      "text/html": [
       "<div>\n",
       "<style scoped>\n",
       "    .dataframe tbody tr th:only-of-type {\n",
       "        vertical-align: middle;\n",
       "    }\n",
       "\n",
       "    .dataframe tbody tr th {\n",
       "        vertical-align: top;\n",
       "    }\n",
       "\n",
       "    .dataframe thead th {\n",
       "        text-align: right;\n",
       "    }\n",
       "</style>\n",
       "<table border=\"1\" class=\"dataframe\">\n",
       "  <thead>\n",
       "    <tr style=\"text-align: right;\">\n",
       "      <th></th>\n",
       "      <th>num_of_request</th>\n",
       "    </tr>\n",
       "    <tr>\n",
       "      <th>service_request_type</th>\n",
       "      <th></th>\n",
       "    </tr>\n",
       "  </thead>\n",
       "  <tbody>\n",
       "    <tr>\n",
       "      <th>Carpentry</th>\n",
       "      <td>1944</td>\n",
       "    </tr>\n",
       "    <tr>\n",
       "      <th>Plumbing</th>\n",
       "      <td>1782</td>\n",
       "    </tr>\n",
       "    <tr>\n",
       "      <th>Heating and Air Conditioning</th>\n",
       "      <td>1459</td>\n",
       "    </tr>\n",
       "    <tr>\n",
       "      <th>Playgrounds</th>\n",
       "      <td>1438</td>\n",
       "    </tr>\n",
       "    <tr>\n",
       "      <th>Ballfields</th>\n",
       "      <td>1234</td>\n",
       "    </tr>\n",
       "  </tbody>\n",
       "</table>\n",
       "</div>"
      ],
      "text/plain": [
       "                              num_of_request\n",
       "service_request_type                        \n",
       "Carpentry                               1944\n",
       "Plumbing                                1782\n",
       "Heating and Air Conditioning            1459\n",
       "Playgrounds                             1438\n",
       "Ballfields                              1234"
      ]
     },
     "execution_count": 19,
     "metadata": {},
     "output_type": "execute_result"
    }
   ],
   "source": [
    "(\n",
    "    df.filter(df.department == 'Parks & Recreation')\n",
    "    .groupBy('service_request_type')\n",
    "    .agg(count(\"service_request_type\").alias(\"num_of_request\"))\n",
    "    .toPandas()\n",
    "    .set_index('service_request_type')\n",
    "    .sort_values('num_of_request', ascending = False)\n",
    "    .head(5)\n",
    ")"
   ]
  },
  {
   "cell_type": "code",
   "execution_count": 20,
   "metadata": {},
   "outputs": [
    {
     "data": {
      "text/html": [
       "<div>\n",
       "<style scoped>\n",
       "    .dataframe tbody tr th:only-of-type {\n",
       "        vertical-align: middle;\n",
       "    }\n",
       "\n",
       "    .dataframe tbody tr th {\n",
       "        vertical-align: top;\n",
       "    }\n",
       "\n",
       "    .dataframe thead th {\n",
       "        text-align: right;\n",
       "    }\n",
       "</style>\n",
       "<table border=\"1\" class=\"dataframe\">\n",
       "  <thead>\n",
       "    <tr style=\"text-align: right;\">\n",
       "      <th></th>\n",
       "      <th>num_of_request</th>\n",
       "    </tr>\n",
       "    <tr>\n",
       "      <th>service_request_type</th>\n",
       "      <th></th>\n",
       "    </tr>\n",
       "  </thead>\n",
       "  <tbody>\n",
       "    <tr>\n",
       "      <th>License Renewal Invoice</th>\n",
       "      <td>1349</td>\n",
       "    </tr>\n",
       "    <tr>\n",
       "      <th>Hygienic Practices</th>\n",
       "      <td>946</td>\n",
       "    </tr>\n",
       "    <tr>\n",
       "      <th>Pests</th>\n",
       "      <td>715</td>\n",
       "    </tr>\n",
       "    <tr>\n",
       "      <th>Food Contact Surfaces</th>\n",
       "      <td>602</td>\n",
       "    </tr>\n",
       "    <tr>\n",
       "      <th>Public Right of Way</th>\n",
       "      <td>538</td>\n",
       "    </tr>\n",
       "  </tbody>\n",
       "</table>\n",
       "</div>"
      ],
      "text/plain": [
       "                         num_of_request\n",
       "service_request_type                   \n",
       "License Renewal Invoice            1349\n",
       "Hygienic Practices                  946\n",
       "Pests                               715\n",
       "Food Contact Surfaces               602\n",
       "Public Right of Way                 538"
      ]
     },
     "execution_count": 20,
     "metadata": {},
     "output_type": "execute_result"
    }
   ],
   "source": [
    "(\n",
    "    df.filter(df.department == 'Metro Health')\n",
    "    .groupBy('service_request_type')\n",
    "    .agg(count(\"service_request_type\").alias(\"num_of_request\"))\n",
    "    .toPandas()\n",
    "    .set_index('service_request_type')\n",
    "    .sort_values('num_of_request', ascending = False)\n",
    "    .head(5)\n",
    ")"
   ]
  },
  {
   "cell_type": "code",
   "execution_count": 21,
   "metadata": {},
   "outputs": [
    {
     "data": {
      "text/html": [
       "<div>\n",
       "<style scoped>\n",
       "    .dataframe tbody tr th:only-of-type {\n",
       "        vertical-align: middle;\n",
       "    }\n",
       "\n",
       "    .dataframe tbody tr th {\n",
       "        vertical-align: top;\n",
       "    }\n",
       "\n",
       "    .dataframe thead th {\n",
       "        text-align: right;\n",
       "    }\n",
       "</style>\n",
       "<table border=\"1\" class=\"dataframe\">\n",
       "  <thead>\n",
       "    <tr style=\"text-align: right;\">\n",
       "      <th></th>\n",
       "      <th>num_of_request</th>\n",
       "    </tr>\n",
       "    <tr>\n",
       "      <th>service_request_type</th>\n",
       "      <th></th>\n",
       "    </tr>\n",
       "  </thead>\n",
       "  <tbody>\n",
       "    <tr>\n",
       "      <th>Request for Research/Information</th>\n",
       "      <td>31</td>\n",
       "    </tr>\n",
       "    <tr>\n",
       "      <th>CCO_Request for Research/Information_1</th>\n",
       "      <td>2</td>\n",
       "    </tr>\n",
       "  </tbody>\n",
       "</table>\n",
       "</div>"
      ],
      "text/plain": [
       "                                        num_of_request\n",
       "service_request_type                                  \n",
       "Request for Research/Information                    31\n",
       "CCO_Request for Research/Information_1               2"
      ]
     },
     "execution_count": 21,
     "metadata": {},
     "output_type": "execute_result"
    }
   ],
   "source": [
    "(\n",
    "    df.filter(df.department == 'City Council')\n",
    "    .groupBy('service_request_type')\n",
    "    .agg(count(\"service_request_type\").alias(\"num_of_request\"))\n",
    "    .toPandas()\n",
    "    .set_index('service_request_type')\n",
    "    .sort_values('num_of_request', ascending = False)\n",
    "    .head(5)\n",
    ")"
   ]
  },
  {
   "cell_type": "code",
   "execution_count": 22,
   "metadata": {},
   "outputs": [
    {
     "data": {
      "text/html": [
       "<div>\n",
       "<style scoped>\n",
       "    .dataframe tbody tr th:only-of-type {\n",
       "        vertical-align: middle;\n",
       "    }\n",
       "\n",
       "    .dataframe tbody tr th {\n",
       "        vertical-align: top;\n",
       "    }\n",
       "\n",
       "    .dataframe thead th {\n",
       "        text-align: right;\n",
       "    }\n",
       "</style>\n",
       "<table border=\"1\" class=\"dataframe\">\n",
       "  <thead>\n",
       "    <tr style=\"text-align: right;\">\n",
       "      <th></th>\n",
       "      <th>num_of_request</th>\n",
       "    </tr>\n",
       "    <tr>\n",
       "      <th>service_request_type</th>\n",
       "      <th></th>\n",
       "    </tr>\n",
       "  </thead>\n",
       "  <tbody>\n",
       "    <tr>\n",
       "      <th>Complaint</th>\n",
       "      <td>2388</td>\n",
       "    </tr>\n",
       "    <tr>\n",
       "      <th>Compliment</th>\n",
       "      <td>461</td>\n",
       "    </tr>\n",
       "  </tbody>\n",
       "</table>\n",
       "</div>"
      ],
      "text/plain": [
       "                      num_of_request\n",
       "service_request_type                \n",
       "Complaint                       2388\n",
       "Compliment                       461"
      ]
     },
     "execution_count": 22,
     "metadata": {},
     "output_type": "execute_result"
    }
   ],
   "source": [
    "(\n",
    "    df.filter(df.department == 'Customer Service')\n",
    "    .groupBy('service_request_type')\n",
    "    .agg(count(\"service_request_type\").alias(\"num_of_request\"))\n",
    "    .toPandas()\n",
    "    .set_index('service_request_type')\n",
    "    .sort_values('num_of_request', ascending = False)\n",
    "    .head(5)\n",
    ")"
   ]
  },
  {
   "cell_type": "markdown",
   "metadata": {},
   "source": [
    "## Exercise 6\n",
    "Does whether or not its a weekend matter for when a case is opened/closed?"
   ]
  },
  {
   "cell_type": "code",
   "execution_count": 3,
   "metadata": {},
   "outputs": [
    {
     "name": "stdout",
     "output_type": "stream",
     "text": [
      "+--------------------+----------------+----------------+\n",
      "|          department|case_opened_date|case_closed_date|\n",
      "+--------------------+----------------+----------------+\n",
      "|Animal Care Services|      2018-01-01|      2018-01-01|\n",
      "|Trans & Cap Impro...|      2018-01-01|      2018-01-03|\n",
      "|Trans & Cap Impro...|      2018-01-01|      2018-01-02|\n",
      "|DSD/Code Enforcement|      2018-01-01|      2018-01-02|\n",
      "|Animal Care Services|      2018-01-01|      2018-01-01|\n",
      "+--------------------+----------------+----------------+\n",
      "only showing top 5 rows\n",
      "\n"
     ]
    }
   ],
   "source": [
    "cases_by_day = df.select(\n",
    "    \"department\",\n",
    "    date_format(\"case_opened_date\", \"yyyy-MM-dd\").alias(\"case_opened_date\"),\n",
    "    date_format(\"case_closed_date\", \"yyyy-MM-dd\").alias(\"case_closed_date\"),\n",
    ")\n",
    "\n",
    "cases_by_day.show(5)"
   ]
  },
  {
   "cell_type": "code",
   "execution_count": 4,
   "metadata": {},
   "outputs": [
    {
     "data": {
      "text/plain": [
       "case_opened_date\n",
       "2017-01-01     155\n",
       "2017-01-02    1397\n",
       "2017-01-03    1760\n",
       "2017-01-04    1613\n",
       "2017-01-05    1791\n",
       "              ... \n",
       "2018-08-04     665\n",
       "2018-08-05     319\n",
       "2018-08-06    2071\n",
       "2018-08-07    2405\n",
       "2018-08-08     604\n",
       "Name: cases_opened, Length: 585, dtype: int64"
      ]
     },
     "execution_count": 4,
     "metadata": {},
     "output_type": "execute_result"
    }
   ],
   "source": [
    "cases_opened_by_day = (\n",
    "    cases_by_day\n",
    "    .groupby('case_opened_date')\n",
    "    .count()\n",
    "    .na.drop()\n",
    "    .sort('case_opened_date')\n",
    "    .toPandas()\n",
    "    .assign(case_opened_date=lambda df: pd.to_datetime(df.case_opened_date))\n",
    "    .set_index('case_opened_date')\n",
    "    ['count']\n",
    ")\n",
    "cases_opened_by_day.name = 'cases_opened'\n",
    "cases_opened_by_day"
   ]
  },
  {
   "cell_type": "code",
   "execution_count": 5,
   "metadata": {},
   "outputs": [],
   "source": [
    "cases_closed_by_day = (\n",
    "    cases_by_day\n",
    "    .groupby('case_closed_date')\n",
    "    .count()\n",
    "    .na.drop()\n",
    "    .sort('case_closed_date')\n",
    "    .toPandas()\n",
    "    .assign(case_closed_date=lambda df: pd.to_datetime(df.case_closed_date))\n",
    "    .set_index('case_closed_date')\n",
    "    ['count']\n",
    ")\n",
    "cases_closed_by_day.name = 'cases_closed'"
   ]
  },
  {
   "cell_type": "code",
   "execution_count": 6,
   "metadata": {},
   "outputs": [],
   "source": [
    "ts = pd.concat([cases_opened_by_day, cases_closed_by_day], axis=1)"
   ]
  },
  {
   "cell_type": "code",
   "execution_count": 12,
   "metadata": {},
   "outputs": [
    {
     "data": {
      "image/png": "[encoded data removed]",
      "text/plain": [
       "<Figure size 936x504 with 1 Axes>"
      ]
     },
     "metadata": {
      "needs_background": "light"
     },
     "output_type": "display_data"
    }
   ],
   "source": [
    "days_of_the_week = ['Sun', 'Mon', 'Tue', 'Wed', 'Thu', 'Fri', 'Sat']\n",
    "ind = [x for x, _ in enumerate(days_of_the_week)]\n",
    "\n",
    "ts['weekday'] = ts.index.strftime('%w-%a')\n",
    "ts.groupby('weekday').mean().plot.bar(figsize=(13, 7), ec='black', width=.9)\n",
    "plt.xticks(ind, days_of_the_week, rotation=0)\n",
    "plt.title('Cases by Day of the Week')\n",
    "plt.xlabel('')\n",
    "plt.ylabel('# of Cases')\n",
    "plt.legend(labels = ('Cases Opened', 'Cases Closed'), loc='upper left', frameon=False)\n",
    "plt.show()"
   ]
  },
  {
   "cell_type": "markdown",
   "metadata": {},
   "source": [
    "## Exercise 7\n",
    "On average, how many cases are opened a day for the Customer Service department?"
   ]
  },
  {
   "cell_type": "code",
   "execution_count": 28,
   "metadata": {},
   "outputs": [
    {
     "data": {
      "text/plain": [
       "1.9914529914529915"
      ]
     },
     "execution_count": 28,
     "metadata": {},
     "output_type": "execute_result"
    }
   ],
   "source": [
    "(df.filter(df.department == \"Customer Service\")\n",
    " .filter(df.case_status == 'Open').count()\n",
    ") / len(ts)"
   ]
  },
  {
   "cell_type": "markdown",
   "metadata": {},
   "source": [
    "## Exercise 8\n",
    "Does the number of service requests for the solid waste department vary by day of the week?"
   ]
  },
  {
   "cell_type": "code",
   "execution_count": 47,
   "metadata": {},
   "outputs": [],
   "source": [
    "waste_request_by_day = (\n",
    "    df.filter(df.department == 'Solid Waste')\n",
    "    .select(\n",
    "        \"service_request_type\",\n",
    "        date_format(\"case_opened_date\", \"yyyy-MM-dd\").alias(\"case_opened_date\")\n",
    "            )\n",
    ")"
   ]
  },
  {
   "cell_type": "code",
   "execution_count": 48,
   "metadata": {},
   "outputs": [],
   "source": [
    "waste_request_opened_by_day = pd.DataFrame(\n",
    "    waste_request_by_day\n",
    "    .groupby('case_opened_date')\n",
    "    .count()\n",
    "    .na.drop()\n",
    "    .sort('case_opened_date')\n",
    "    .toPandas()\n",
    "    .assign(case_opened_date=lambda df: pd.to_datetime(df.case_opened_date))\n",
    "    .set_index('case_opened_date')\n",
    "    ['count']\n",
    ")"
   ]
  },
  {
   "cell_type": "code",
   "execution_count": 49,
   "metadata": {},
   "outputs": [
    {
     "data": {
      "text/html": [
       "<div>\n",
       "<style scoped>\n",
       "    .dataframe tbody tr th:only-of-type {\n",
       "        vertical-align: middle;\n",
       "    }\n",
       "\n",
       "    .dataframe tbody tr th {\n",
       "        vertical-align: top;\n",
       "    }\n",
       "\n",
       "    .dataframe thead th {\n",
       "        text-align: right;\n",
       "    }\n",
       "</style>\n",
       "<table border=\"1\" class=\"dataframe\">\n",
       "  <thead>\n",
       "    <tr style=\"text-align: right;\">\n",
       "      <th></th>\n",
       "      <th>count</th>\n",
       "    </tr>\n",
       "    <tr>\n",
       "      <th>case_opened_date</th>\n",
       "      <th></th>\n",
       "    </tr>\n",
       "  </thead>\n",
       "  <tbody>\n",
       "    <tr>\n",
       "      <th>2017-01-01</th>\n",
       "      <td>43</td>\n",
       "    </tr>\n",
       "    <tr>\n",
       "      <th>2017-01-02</th>\n",
       "      <td>722</td>\n",
       "    </tr>\n",
       "    <tr>\n",
       "      <th>2017-01-03</th>\n",
       "      <td>771</td>\n",
       "    </tr>\n",
       "    <tr>\n",
       "      <th>2017-01-04</th>\n",
       "      <td>545</td>\n",
       "    </tr>\n",
       "    <tr>\n",
       "      <th>2017-01-05</th>\n",
       "      <td>586</td>\n",
       "    </tr>\n",
       "    <tr>\n",
       "      <th>...</th>\n",
       "      <td>...</td>\n",
       "    </tr>\n",
       "    <tr>\n",
       "      <th>2018-08-04</th>\n",
       "      <td>175</td>\n",
       "    </tr>\n",
       "    <tr>\n",
       "      <th>2018-08-05</th>\n",
       "      <td>90</td>\n",
       "    </tr>\n",
       "    <tr>\n",
       "      <th>2018-08-06</th>\n",
       "      <td>775</td>\n",
       "    </tr>\n",
       "    <tr>\n",
       "      <th>2018-08-07</th>\n",
       "      <td>714</td>\n",
       "    </tr>\n",
       "    <tr>\n",
       "      <th>2018-08-08</th>\n",
       "      <td>191</td>\n",
       "    </tr>\n",
       "  </tbody>\n",
       "</table>\n",
       "<p>585 rows × 1 columns</p>\n",
       "</div>"
      ],
      "text/plain": [
       "                  count\n",
       "case_opened_date       \n",
       "2017-01-01           43\n",
       "2017-01-02          722\n",
       "2017-01-03          771\n",
       "2017-01-04          545\n",
       "2017-01-05          586\n",
       "...                 ...\n",
       "2018-08-04          175\n",
       "2018-08-05           90\n",
       "2018-08-06          775\n",
       "2018-08-07          714\n",
       "2018-08-08          191\n",
       "\n",
       "[585 rows x 1 columns]"
      ]
     },
     "execution_count": 49,
     "metadata": {},
     "output_type": "execute_result"
    }
   ],
   "source": [
    "waste_request_opened_by_day"
   ]
  },
  {
   "cell_type": "code",
   "execution_count": 50,
   "metadata": {},
   "outputs": [],
   "source": [
    "waste_request_opened_by_day['weekday'] = waste_request_opened_by_day.index.strftime('%w-%a')"
   ]
  },
  {
   "cell_type": "code",
   "execution_count": 76,
   "metadata": {},
   "outputs": [
    {
     "data": {
      "image/png": "[encoded data removed]",
      "text/plain": [
       "<Figure size 936x504 with 1 Axes>"
      ]
     },
     "metadata": {
      "needs_background": "light"
     },
     "output_type": "display_data"
    }
   ],
   "source": [
    "days_of_the_week = ['Sun', 'Mon', 'Tue', 'Wed', 'Thu', 'Fri', 'Sat']\n",
    "ind = [x for x, _ in enumerate(days_of_the_week)]\n",
    "\n",
    "\n",
    "waste_request_opened_by_day.groupby('weekday').mean().plot.bar(figsize = (13,7), ec = 'black', width = .9)\n",
    "plt.title('Solid Waste Service Request')\n",
    "plt.xlabel('')\n",
    "plt.ylabel('Number of Request')\n",
    "plt.legend().remove()\n",
    "plt.xticks(ind, days_of_the_week, rotation=0)\n",
    "plt.show()"
   ]
  },
  {
   "cell_type": "code",
   "execution_count": null,
   "metadata": {},
   "outputs": [],
   "source": []
  }
 ],
 "metadata": {
  "kernelspec": {
   "display_name": "Python 3",
   "language": "python",
   "name": "python3"
  },
  "language_info": {
   "codemirror_mode": {
    "name": "ipython",
    "version": 3
   },
   "file_extension": ".py",
   "mimetype": "text/x-python",
   "name": "python",
   "nbconvert_exporter": "python",
   "pygments_lexer": "ipython3",
   "version": "3.7.9"
  }
 },
 "nbformat": 4,
 "nbformat_minor": 4
}

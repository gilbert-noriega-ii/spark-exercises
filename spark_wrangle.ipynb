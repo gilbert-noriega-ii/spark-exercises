{
 "cells": [
  {
   "cell_type": "markdown",
   "metadata": {},
   "source": [
    "# Data Acquisition"
   ]
  },
  {
   "cell_type": "code",
   "execution_count": 1,
   "metadata": {},
   "outputs": [],
   "source": [
    "from pyspark.sql import SparkSession\n",
    "from pyspark.sql.types import StructType, StructField, StringType\n",
    "\n",
    "from pyspark.sql.functions import *"
   ]
  },
  {
   "cell_type": "code",
   "execution_count": 2,
   "metadata": {},
   "outputs": [],
   "source": [
    "spark = SparkSession.builder.getOrCreate()"
   ]
  },
  {
   "cell_type": "markdown",
   "metadata": {},
   "source": [
    "## Exercise 1\n",
    "This exercises uses the case.csv, dept.csv, and source.csv files from the san antonio 311 call dataset.\n",
    "\n",
    "Read the case, department, and source data into their own spark dataframes."
   ]
  },
  {
   "cell_type": "code",
   "execution_count": 3,
   "metadata": {},
   "outputs": [],
   "source": [
    "case = spark.read.csv(\"data/case.csv\", header=True, inferSchema=True)"
   ]
  },
  {
   "cell_type": "code",
   "execution_count": 4,
   "metadata": {},
   "outputs": [],
   "source": [
    "dept = spark.read.csv(\"data/dept.csv\", header=True, inferSchema=True)"
   ]
  },
  {
   "cell_type": "code",
   "execution_count": 5,
   "metadata": {},
   "outputs": [],
   "source": [
    "source = spark.read.csv(\"data/source.csv\", sep=\",\", header=True, inferSchema=True)"
   ]
  },
  {
   "cell_type": "markdown",
   "metadata": {},
   "source": [
    "## Exercise 2\n",
    "Let's see how writing to the local disk works in spark:\n",
    "\n",
    "Write the code necessary to store the source data in both csv and json format, store these as sources_csv and sources_json\n",
    "Inspect your folder structure. What do you notice?"
   ]
  },
  {
   "cell_type": "code",
   "execution_count": 6,
   "metadata": {},
   "outputs": [],
   "source": [
    "source.write.json(\"source_json\", mode=\"overwrite\")"
   ]
  },
  {
   "cell_type": "code",
   "execution_count": 7,
   "metadata": {},
   "outputs": [],
   "source": [
    "source.write.csv(\"source_csv\", mode=\"overwrite\")"
   ]
  },
  {
   "cell_type": "markdown",
   "metadata": {},
   "source": [
    "The csv file does not automatically add headers to the columns like the json file does. The csv file instead seperates the columns by commas while the json file places each line into a dictionary."
   ]
  },
  {
   "cell_type": "markdown",
   "metadata": {},
   "source": [
    "## Exercise 3\n",
    "Inspect the data in your dataframes. Are the data types appropriate? Write the code necessary to cast the values to the appropriate types."
   ]
  },
  {
   "cell_type": "code",
   "execution_count": 8,
   "metadata": {},
   "outputs": [
    {
     "data": {
      "text/plain": [
       "DataFrame[source_id: string, source_username: string]"
      ]
     },
     "execution_count": 8,
     "metadata": {},
     "output_type": "execute_result"
    }
   ],
   "source": [
    "source"
   ]
  },
  {
   "cell_type": "markdown",
   "metadata": {},
   "source": [
    "The `'source_id'` is listed as a string even though they are numbers. This will be fine since we are not going to perform any arithmetic with this number."
   ]
  },
  {
   "cell_type": "code",
   "execution_count": 9,
   "metadata": {},
   "outputs": [
    {
     "data": {
      "text/plain": [
       "DataFrame[dept_division: string, dept_name: string, standardized_dept_name: string, dept_subject_to_SLA: string]"
      ]
     },
     "execution_count": 9,
     "metadata": {},
     "output_type": "execute_result"
    }
   ],
   "source": [
    "dept"
   ]
  },
  {
   "cell_type": "code",
   "execution_count": 10,
   "metadata": {},
   "outputs": [
    {
     "name": "stdout",
     "output_type": "stream",
     "text": [
      "+-------------------+-----+\n",
      "|dept_subject_to_SLA|count|\n",
      "+-------------------+-----+\n",
      "|                YES|   31|\n",
      "|                 NO|    8|\n",
      "+-------------------+-----+\n",
      "\n"
     ]
    }
   ],
   "source": [
    "dept.groupBy('dept_subject_to_SLA').count().show()"
   ]
  },
  {
   "cell_type": "markdown",
   "metadata": {},
   "source": [
    "The column `'dept_subject_to_SLA'` is listed as a string when it is really a boolean value."
   ]
  },
  {
   "cell_type": "code",
   "execution_count": 11,
   "metadata": {},
   "outputs": [],
   "source": [
    "dept = dept.withColumn(\"dept_subject_to_SLA\", expr('dept_subject_to_SLA == \"YES\"'))"
   ]
  },
  {
   "cell_type": "code",
   "execution_count": 12,
   "metadata": {},
   "outputs": [
    {
     "name": "stdout",
     "output_type": "stream",
     "text": [
      "+--------------------+--------------------+----------------------+-------------------+\n",
      "|       dept_division|           dept_name|standardized_dept_name|dept_subject_to_SLA|\n",
      "+--------------------+--------------------+----------------------+-------------------+\n",
      "|     311 Call Center|    Customer Service|      Customer Service|               true|\n",
      "|               Brush|Solid Waste Manag...|           Solid Waste|               true|\n",
      "|     Clean and Green|Parks and Recreation|    Parks & Recreation|               true|\n",
      "|Clean and Green N...|Parks and Recreation|    Parks & Recreation|               true|\n",
      "|    Code Enforcement|Code Enforcement ...|  DSD/Code Enforcement|               true|\n",
      "|Code Enforcement ...|Code Enforcement ...|  DSD/Code Enforcement|               true|\n",
      "|Code Enforcement ...|                null|  DSD/Code Enforcement|               true|\n",
      "|   Dangerous Premise|Code Enforcement ...|  DSD/Code Enforcement|               true|\n",
      "|Dangerous Premise...|Code Enforcement ...|  DSD/Code Enforcement|               true|\n",
      "|Director's Office...|Trans & Cap Impro...|  Trans & Cap Impro...|               true|\n",
      "|          District 1|        City Council|          City Council|              false|\n",
      "|         District 10|        City Council|          City Council|              false|\n",
      "|          District 2|        City Council|          City Council|              false|\n",
      "|          District 3|        City Council|          City Council|              false|\n",
      "|          District 6|        City Council|          City Council|              false|\n",
      "|          District 7|        City Council|          City Council|              false|\n",
      "|          District 8|        City Council|          City Council|              false|\n",
      "|          District 9|        City Council|          City Council|              false|\n",
      "|Engineering Division|Development Services|  DSD/Code Enforcement|               true|\n",
      "|    Facility License|        Metro Health|          Metro Health|               true|\n",
      "+--------------------+--------------------+----------------------+-------------------+\n",
      "only showing top 20 rows\n",
      "\n"
     ]
    }
   ],
   "source": [
    "dept.show()"
   ]
  },
  {
   "cell_type": "code",
   "execution_count": 13,
   "metadata": {},
   "outputs": [
    {
     "data": {
      "text/plain": [
       "DataFrame[case_id: int, case_opened_date: string, case_closed_date: string, SLA_due_date: string, case_late: string, num_days_late: double, case_closed: string, dept_division: string, service_request_type: string, SLA_days: double, case_status: string, source_id: string, request_address: string, council_district: int]"
      ]
     },
     "execution_count": 13,
     "metadata": {},
     "output_type": "execute_result"
    }
   ],
   "source": [
    "case"
   ]
  },
  {
   "cell_type": "markdown",
   "metadata": {},
   "source": [
    "- `'case_id'` snd `'council_district'` needs to be changed into a string since we are not going to do any artithmetic.\n",
    "- `'case_closed'` and `'case_late'` will need to be changed into boolean values\n",
    "- `\"case_opened_date\"`, `\"case_closed_date\"`, `\"case_due_date\"` all need to be changed into a datetime format"
   ]
  },
  {
   "cell_type": "code",
   "execution_count": 14,
   "metadata": {},
   "outputs": [],
   "source": [
    "case = case.withColumnRenamed(\"SLA_due_date\", \"case_due_date\")"
   ]
  },
  {
   "cell_type": "code",
   "execution_count": 15,
   "metadata": {},
   "outputs": [
    {
     "data": {
      "text/plain": [
       "DataFrame[case_id: int, case_opened_date: string, case_closed_date: string, case_due_date: string, case_late: string, num_days_late: double, case_closed: string, dept_division: string, service_request_type: string, SLA_days: double, case_status: string, source_id: string, request_address: string, council_district: int]"
      ]
     },
     "execution_count": 15,
     "metadata": {},
     "output_type": "execute_result"
    }
   ],
   "source": [
    "case"
   ]
  },
  {
   "cell_type": "code",
   "execution_count": 16,
   "metadata": {},
   "outputs": [],
   "source": [
    "case = case.withColumn(\"council_district\", col(\"council_district\").cast(\"string\")).withColumn(\n",
    "    \"case_id\", col(\"case_id\").cast(\"string\"))"
   ]
  },
  {
   "cell_type": "code",
   "execution_count": 17,
   "metadata": {},
   "outputs": [
    {
     "data": {
      "text/plain": [
       "DataFrame[council_district: string, case_id: string]"
      ]
     },
     "execution_count": 17,
     "metadata": {},
     "output_type": "execute_result"
    }
   ],
   "source": [
    "case.select(\"council_district\", \"case_id\")"
   ]
  },
  {
   "cell_type": "markdown",
   "metadata": {},
   "source": [
    "Values are now strings and no longer integers"
   ]
  },
  {
   "cell_type": "code",
   "execution_count": 18,
   "metadata": {},
   "outputs": [
    {
     "name": "stdout",
     "output_type": "stream",
     "text": [
      "+-----------+---------+------+\n",
      "|case_closed|case_late| count|\n",
      "+-----------+---------+------+\n",
      "|         NO|      YES|  6525|\n",
      "|        YES|      YES| 87978|\n",
      "|         NO|       NO| 11585|\n",
      "|        YES|       NO|735616|\n",
      "+-----------+---------+------+\n",
      "\n"
     ]
    }
   ],
   "source": [
    "case.groupBy(\"case_closed\", \"case_late\").count().show()"
   ]
  },
  {
   "cell_type": "code",
   "execution_count": 19,
   "metadata": {},
   "outputs": [],
   "source": [
    "case = case.withColumn(\"case_closed\", expr('case_closed == \"YES\"')).withColumn(\n",
    "    \"case_late\", expr('case_late == \"YES\"')\n",
    ")"
   ]
  },
  {
   "cell_type": "code",
   "execution_count": 20,
   "metadata": {},
   "outputs": [
    {
     "data": {
      "text/plain": [
       "DataFrame[case_closed: boolean, case_late: boolean]"
      ]
     },
     "execution_count": 20,
     "metadata": {},
     "output_type": "execute_result"
    }
   ],
   "source": [
    "case.select(\"case_closed\", \"case_late\")"
   ]
  },
  {
   "cell_type": "markdown",
   "metadata": {},
   "source": [
    "Values are now booleans and no longer strings"
   ]
  },
  {
   "cell_type": "code",
   "execution_count": 21,
   "metadata": {},
   "outputs": [
    {
     "name": "stdout",
     "output_type": "stream",
     "text": [
      "+----------------+----------------+-------------+\n",
      "|case_opened_date|case_closed_date|case_due_date|\n",
      "+----------------+----------------+-------------+\n",
      "|     1/1/18 0:42|    1/1/18 12:29| 9/26/20 0:42|\n",
      "|     1/1/18 0:46|     1/3/18 8:11|  1/5/18 8:30|\n",
      "|     1/1/18 0:48|     1/2/18 7:57|  1/5/18 8:30|\n",
      "|     1/1/18 1:29|     1/2/18 8:13| 1/17/18 8:30|\n",
      "|     1/1/18 1:34|    1/1/18 13:29|  1/1/18 4:34|\n",
      "+----------------+----------------+-------------+\n",
      "only showing top 5 rows\n",
      "\n"
     ]
    }
   ],
   "source": [
    "case.select(\"case_opened_date\", \"case_closed_date\", \"case_due_date\").show(5)"
   ]
  },
  {
   "cell_type": "code",
   "execution_count": 22,
   "metadata": {},
   "outputs": [],
   "source": [
    "fmt = \"M/d/yy H:mm\"\n",
    "case = (\n",
    "    case.withColumn(\"case_opened_date\", to_timestamp(\"case_opened_date\", fmt))\n",
    "    .withColumn(\"case_closed_date\", to_timestamp(\"case_opened_date\", fmt))\n",
    "    .withColumn(\"case_due_date\", to_timestamp(\"case_opened_date\", fmt))\n",
    ")"
   ]
  },
  {
   "cell_type": "code",
   "execution_count": 23,
   "metadata": {},
   "outputs": [
    {
     "name": "stdout",
     "output_type": "stream",
     "text": [
      "+-------------------+-------------------+-------------------+\n",
      "|   case_opened_date|   case_closed_date|      case_due_date|\n",
      "+-------------------+-------------------+-------------------+\n",
      "|2018-01-01 00:42:00|2018-01-01 00:42:00|2018-01-01 00:42:00|\n",
      "|2018-01-01 00:46:00|2018-01-01 00:46:00|2018-01-01 00:46:00|\n",
      "|2018-01-01 00:48:00|2018-01-01 00:48:00|2018-01-01 00:48:00|\n",
      "|2018-01-01 01:29:00|2018-01-01 01:29:00|2018-01-01 01:29:00|\n",
      "|2018-01-01 01:34:00|2018-01-01 01:34:00|2018-01-01 01:34:00|\n",
      "+-------------------+-------------------+-------------------+\n",
      "only showing top 5 rows\n",
      "\n"
     ]
    }
   ],
   "source": [
    "case.select(\"case_opened_date\", \"case_closed_date\", \"case_due_date\").show(5)"
   ]
  },
  {
   "cell_type": "markdown",
   "metadata": {},
   "source": [
    "Now that we have the data as the appropriate types, we can make a few transformations to the data."
   ]
  },
  {
   "cell_type": "code",
   "execution_count": 24,
   "metadata": {},
   "outputs": [
    {
     "name": "stdout",
     "output_type": "stream",
     "text": [
      "+--------------------+\n",
      "|     request_address|\n",
      "+--------------------+\n",
      "|2315  EL PASO ST,...|\n",
      "|2215  GOLIAD RD, ...|\n",
      "|102  PALFREY ST W...|\n",
      "|114  LA GARDE ST,...|\n",
      "|734  CLEARVIEW DR...|\n",
      "+--------------------+\n",
      "only showing top 5 rows\n",
      "\n"
     ]
    }
   ],
   "source": [
    "case.select(\"request_address\").show(5)"
   ]
  },
  {
   "cell_type": "code",
   "execution_count": 25,
   "metadata": {},
   "outputs": [],
   "source": [
    "case = case.withColumn(\"request_address\", trim(lower(case.request_address)))"
   ]
  },
  {
   "cell_type": "code",
   "execution_count": 26,
   "metadata": {},
   "outputs": [
    {
     "name": "stdout",
     "output_type": "stream",
     "text": [
      "+--------------------+\n",
      "|     request_address|\n",
      "+--------------------+\n",
      "|2315  el paso st,...|\n",
      "|2215  goliad rd, ...|\n",
      "|102  palfrey st w...|\n",
      "|114  la garde st,...|\n",
      "|734  clearview dr...|\n",
      "+--------------------+\n",
      "only showing top 5 rows\n",
      "\n"
     ]
    }
   ],
   "source": [
    "case.select(\"request_address\").show(5)"
   ]
  },
  {
   "cell_type": "markdown",
   "metadata": {},
   "source": [
    "We will convert the number of days a case is late to a number of weeks."
   ]
  },
  {
   "cell_type": "code",
   "execution_count": 27,
   "metadata": {},
   "outputs": [
    {
     "name": "stdout",
     "output_type": "stream",
     "text": [
      "+-------------------+--------------------+\n",
      "|      num_days_late|      num_weeks_late|\n",
      "+-------------------+--------------------+\n",
      "| -998.5087616000001|        -142.6441088|\n",
      "|-2.0126041669999997|-0.28751488099999994|\n",
      "|       -3.022337963|-0.43176256614285713|\n",
      "|       -15.01148148| -2.1444973542857144|\n",
      "|0.37216435200000003|         0.053166336|\n",
      "+-------------------+--------------------+\n",
      "only showing top 5 rows\n",
      "\n"
     ]
    }
   ],
   "source": [
    "case = case.withColumn(\n",
    "    \"num_weeks_late\", expr(\"num_days_late / 7 AS num_weeks_late\")\n",
    ")\n",
    "\n",
    "case.select(\"num_days_late\", \"num_weeks_late\").show(5)"
   ]
  },
  {
   "cell_type": "markdown",
   "metadata": {},
   "source": [
    "Lastly, we can format the council district column a little differently. We'll add leading 0s to it."
   ]
  },
  {
   "cell_type": "code",
   "execution_count": 28,
   "metadata": {},
   "outputs": [],
   "source": [
    "case = case.withColumn(\"council_district\", col(\"council_district\").cast(\"int\"))\n",
    "\n",
    "# '%03d' means at least 3 digits, pad with 0s\n",
    "#\n",
    "# In order to use the format_string function the way we are, we'll need to\n",
    "# convert council_district back to an integer temporarily, but the final output\n",
    "# will be a string.\n",
    "case = case.withColumn(\n",
    "    \"council_district\",\n",
    "    format_string(\"%03d\", col(\"council_district\").cast(\"int\")),\n",
    ")"
   ]
  },
  {
   "cell_type": "code",
   "execution_count": 29,
   "metadata": {},
   "outputs": [
    {
     "name": "stdout",
     "output_type": "stream",
     "text": [
      "+----------------+\n",
      "|council_district|\n",
      "+----------------+\n",
      "|             005|\n",
      "|             003|\n",
      "|             003|\n",
      "|             003|\n",
      "|             007|\n",
      "+----------------+\n",
      "only showing top 5 rows\n",
      "\n"
     ]
    }
   ],
   "source": [
    "case.select(\"council_district\").show(5)"
   ]
  },
  {
   "cell_type": "markdown",
   "metadata": {},
   "source": [
    "We can create a new feature based on existing data. We will extract the zipcode from the address."
   ]
  },
  {
   "cell_type": "code",
   "execution_count": 30,
   "metadata": {},
   "outputs": [],
   "source": [
    "case = case.withColumn(\"zipcode\", regexp_extract(\"request_address\", r\"\\d+$\", 0))"
   ]
  },
  {
   "cell_type": "code",
   "execution_count": 31,
   "metadata": {},
   "outputs": [
    {
     "name": "stdout",
     "output_type": "stream",
     "text": [
      "+-------+\n",
      "|zipcode|\n",
      "+-------+\n",
      "|  78207|\n",
      "|  78223|\n",
      "|  78223|\n",
      "|  78223|\n",
      "|  78228|\n",
      "+-------+\n",
      "only showing top 5 rows\n",
      "\n"
     ]
    }
   ],
   "source": [
    "case.select(\"zipcode\").show(5)"
   ]
  },
  {
   "cell_type": "markdown",
   "metadata": {},
   "source": [
    "Next we will create several new, related columns:\n",
    "\n",
    "- `case_age`: How old the case is; the difference in days between when the case was opened and the current day\n",
    "- `days_to_closed`: The number of days between when the case was opened and when it was closed\n",
    "- `case_lifetime`: Number of days between when the case was opened and when it was closed, if the case is still open, the number of days since the case was opened"
   ]
  },
  {
   "cell_type": "code",
   "execution_count": 32,
   "metadata": {},
   "outputs": [],
   "source": [
    "case = (\n",
    "    case.withColumn(\n",
    "        \"case_age\", datediff(current_timestamp(), \"case_opened_date\")\n",
    "    )\n",
    "    .withColumn(\n",
    "        \"days_to_closed\", datediff(\"case_closed_date\", \"case_opened_date\")\n",
    "    )\n",
    "    .withColumn(\n",
    "        \"case_lifetime\",\n",
    "        when(expr(\"! case_closed\"), col(\"case_age\")).otherwise(\n",
    "            col(\"days_to_closed\")\n",
    "        ),\n",
    "    )\n",
    ")"
   ]
  },
  {
   "cell_type": "code",
   "execution_count": 33,
   "metadata": {},
   "outputs": [
    {
     "name": "stdout",
     "output_type": "stream",
     "text": [
      "+-----------+-------------------+-------------------+--------+--------------+-------------+\n",
      "|case_closed|   case_opened_date|   case_closed_date|case_age|days_to_closed|case_lifetime|\n",
      "+-----------+-------------------+-------------------+--------+--------------+-------------+\n",
      "|       true|2018-01-01 00:42:00|2018-01-01 00:42:00|    1065|             0|            0|\n",
      "|       true|2018-01-01 00:46:00|2018-01-01 00:46:00|    1065|             0|            0|\n",
      "|       true|2018-01-01 00:48:00|2018-01-01 00:48:00|    1065|             0|            0|\n",
      "|       true|2018-01-01 01:29:00|2018-01-01 01:29:00|    1065|             0|            0|\n",
      "|       true|2018-01-01 01:34:00|2018-01-01 01:34:00|    1065|             0|            0|\n",
      "+-----------+-------------------+-------------------+--------+--------------+-------------+\n",
      "only showing top 5 rows\n",
      "\n"
     ]
    }
   ],
   "source": [
    "case.select(\n",
    "    \"case_closed\",\n",
    "    \"case_opened_date\",\n",
    "    \"case_closed_date\",\n",
    "    \"case_age\",\n",
    "    \"days_to_closed\",\n",
    "    \"case_lifetime\",\n",
    ").where(expr(\"case_closed\")).show(5)"
   ]
  },
  {
   "cell_type": "code",
   "execution_count": 34,
   "metadata": {},
   "outputs": [
    {
     "name": "stdout",
     "output_type": "stream",
     "text": [
      "+-----------+-------------------+-------------------+--------+--------------+-------------+\n",
      "|case_closed|   case_opened_date|   case_closed_date|case_age|days_to_closed|case_lifetime|\n",
      "+-----------+-------------------+-------------------+--------+--------------+-------------+\n",
      "|      false|2018-01-02 09:39:00|2018-01-02 09:39:00|    1064|             0|         1064|\n",
      "|      false|2018-01-02 10:49:00|2018-01-02 10:49:00|    1064|             0|         1064|\n",
      "|      false|2018-01-02 13:45:00|2018-01-02 13:45:00|    1064|             0|         1064|\n",
      "|      false|2018-01-02 14:09:00|2018-01-02 14:09:00|    1064|             0|         1064|\n",
      "|      false|2018-01-02 14:34:00|2018-01-02 14:34:00|    1064|             0|         1064|\n",
      "+-----------+-------------------+-------------------+--------+--------------+-------------+\n",
      "only showing top 5 rows\n",
      "\n"
     ]
    }
   ],
   "source": [
    "case.select(\n",
    "    \"case_closed\",\n",
    "    \"case_opened_date\",\n",
    "    \"case_closed_date\",\n",
    "    \"case_age\",\n",
    "    \"days_to_closed\",\n",
    "    \"case_lifetime\",\n",
    ").where(expr(\"! case_closed\")).show(5)"
   ]
  },
  {
   "cell_type": "markdown",
   "metadata": {},
   "source": [
    "We can now join the department data onto the case data using the `dept_division` column."
   ]
  },
  {
   "cell_type": "code",
   "execution_count": 35,
   "metadata": {},
   "outputs": [],
   "source": [
    "case = (\n",
    "    case\n",
    "    # left join on dept_division\n",
    "    .join(dept, \"dept_division\", \"left\")\n",
    "    # drop all the columns except for standardized name, as it has much fewer unique values\n",
    "    .drop(dept.dept_division)\n",
    "    .drop(dept.dept_name)\n",
    "    .withColumnRenamed(\"standardized_dept_name\", \"department\")\n",
    "    # convert to a boolean\n",
    "    .withColumn(\"dept_subject_to_SLA\", col(\"dept_subject_to_SLA\") == \"YES\")\n",
    "    #  left join on source_id\n",
    "    .join(source, 'source_id', 'left')\n",
    ")\n",
    "# # Train Test Split\n",
    "# train, test = df.randomSplit([.8, .2], seed=123)\n",
    "# train, validate, test = df.randomSplit([.7, .15, .15], seed=123)"
   ]
  },
  {
   "cell_type": "code",
   "execution_count": 36,
   "metadata": {},
   "outputs": [
    {
     "name": "stdout",
     "output_type": "stream",
     "text": [
      "-RECORD 0------------------------------------\n",
      " source_id            | svcCRMLS             \n",
      " dept_division        | Field Operations     \n",
      " case_id              | 1014127332           \n",
      " case_opened_date     | 2018-01-01 00:42:00  \n",
      " case_closed_date     | 2018-01-01 00:42:00  \n",
      " case_due_date        | 2018-01-01 00:42:00  \n",
      " case_late            | false                \n",
      " num_days_late        | -998.5087616000001   \n",
      " case_closed          | true                 \n",
      " service_request_type | Stray Animal         \n",
      " SLA_days             | 999.0                \n",
      " case_status          | Closed               \n",
      " request_address      | 2315  el paso st,... \n",
      " council_district     | 005                  \n",
      " num_weeks_late       | -142.6441088         \n",
      " zipcode              | 78207                \n",
      " case_age             | 1065                 \n",
      " days_to_closed       | 0                    \n",
      " case_lifetime        | 0                    \n",
      " department           | Animal Care Services \n",
      " dept_subject_to_SLA  | true                 \n",
      " source_username      | svcCRMLS             \n",
      "-RECORD 1------------------------------------\n",
      " source_id            | svcCRMSS             \n",
      " dept_division        | Storm Water          \n",
      " case_id              | 1014127333           \n",
      " case_opened_date     | 2018-01-01 00:46:00  \n",
      " case_closed_date     | 2018-01-01 00:46:00  \n",
      " case_due_date        | 2018-01-01 00:46:00  \n",
      " case_late            | false                \n",
      " num_days_late        | -2.0126041669999997  \n",
      " case_closed          | true                 \n",
      " service_request_type | Removal Of Obstru... \n",
      " SLA_days             | 4.322222222          \n",
      " case_status          | Closed               \n",
      " request_address      | 2215  goliad rd, ... \n",
      " council_district     | 003                  \n",
      " num_weeks_late       | -0.28751488099999994 \n",
      " zipcode              | 78223                \n",
      " case_age             | 1065                 \n",
      " days_to_closed       | 0                    \n",
      " case_lifetime        | 0                    \n",
      " department           | Trans & Cap Impro... \n",
      " dept_subject_to_SLA  | true                 \n",
      " source_username      | svcCRMSS             \n",
      "only showing top 2 rows\n",
      "\n"
     ]
    }
   ],
   "source": [
    "case.show(2, vertical=True)"
   ]
  },
  {
   "cell_type": "markdown",
   "metadata": {},
   "source": [
    "## Question 1\n",
    "How old is the latest (in terms of days past SLA) currently open issue? How long has the oldest (in terms of days since opened) currently opened issue been open?"
   ]
  },
  {
   "cell_type": "markdown",
   "metadata": {},
   "source": [
    "\n",
    "In case we want to query our dataframe with Spark SQL:"
   ]
  },
  {
   "cell_type": "code",
   "execution_count": 37,
   "metadata": {},
   "outputs": [],
   "source": [
    "case.createOrReplaceTempView('case')"
   ]
  },
  {
   "cell_type": "code",
   "execution_count": 38,
   "metadata": {},
   "outputs": [
    {
     "name": "stdout",
     "output_type": "stream",
     "text": [
      "+-------------+\n",
      "|days_past_due|\n",
      "+-------------+\n",
      "|         1430|\n",
      "|         1430|\n",
      "|         1429|\n",
      "|         1428|\n",
      "|         1427|\n",
      "|         1427|\n",
      "|         1427|\n",
      "|         1427|\n",
      "|         1427|\n",
      "|         1427|\n",
      "|         1427|\n",
      "|         1427|\n",
      "|         1427|\n",
      "|         1427|\n",
      "|         1427|\n",
      "+-------------+\n",
      "\n"
     ]
    }
   ],
   "source": [
    "spark.sql(\n",
    "'''\n",
    "SELECT DATEDIFF(current_timestamp, case_due_date) AS days_past_due\n",
    "FROM case\n",
    "WHERE NOT case_closed\n",
    "ORDER BY days_past_due DESC\n",
    "LIMIT 15\n",
    "'''\n",
    ").show()"
   ]
  },
  {
   "cell_type": "markdown",
   "metadata": {},
   "source": [
    "## Question 2\n",
    "How many Stray Animal cases are there?"
   ]
  },
  {
   "cell_type": "code",
   "execution_count": 39,
   "metadata": {},
   "outputs": [
    {
     "data": {
      "text/plain": [
       "27361"
      ]
     },
     "execution_count": 39,
     "metadata": {},
     "output_type": "execute_result"
    }
   ],
   "source": [
    "case.filter(col(\"service_request_type\") == \"Stray Animal\").count()"
   ]
  },
  {
   "cell_type": "markdown",
   "metadata": {},
   "source": [
    "## Question 3\n",
    "How many service requests that are assigned to the Field Operations department (dept_division) are not classified as \"Officer Standby\" request type (service_request_type)?"
   ]
  },
  {
   "cell_type": "code",
   "execution_count": 40,
   "metadata": {},
   "outputs": [
    {
     "data": {
      "text/plain": [
       "116295"
      ]
     },
     "execution_count": 40,
     "metadata": {},
     "output_type": "execute_result"
    }
   ],
   "source": [
    "(case\n",
    "     .filter(col(\"dept_division\") == \"Field Operations\")\n",
    "     .filter(col(\"service_request_type\") != \"Officer Standby\")\n",
    "     .count()\n",
    ")"
   ]
  },
  {
   "cell_type": "markdown",
   "metadata": {},
   "source": [
    "## Question 4\n",
    "Convert the council_district column to a string column."
   ]
  },
  {
   "cell_type": "code",
   "execution_count": 41,
   "metadata": {},
   "outputs": [
    {
     "data": {
      "text/plain": [
       "DataFrame[council_district: string]"
      ]
     },
     "execution_count": 41,
     "metadata": {},
     "output_type": "execute_result"
    }
   ],
   "source": [
    "case.withColumn(\"council_district\", col(\"council_district\").cast(\"string\"))\n",
    "case.select(\"council_district\")"
   ]
  },
  {
   "cell_type": "markdown",
   "metadata": {},
   "source": [
    "## Question 5\n",
    "Extract the year from the case_closed_date column."
   ]
  },
  {
   "cell_type": "code",
   "execution_count": 42,
   "metadata": {},
   "outputs": [],
   "source": [
    "case = case.withColumn(\"case_closed_year\", year(\"case_closed_date\"))"
   ]
  },
  {
   "cell_type": "code",
   "execution_count": 43,
   "metadata": {},
   "outputs": [
    {
     "name": "stdout",
     "output_type": "stream",
     "text": [
      "+-------------------+----------------+\n",
      "|   case_closed_date|case_closed_year|\n",
      "+-------------------+----------------+\n",
      "|2018-01-01 00:42:00|            2018|\n",
      "|2018-01-01 00:46:00|            2018|\n",
      "|2018-01-01 00:48:00|            2018|\n",
      "|2018-01-01 01:29:00|            2018|\n",
      "|2018-01-01 01:34:00|            2018|\n",
      "|2018-01-01 06:28:00|            2018|\n",
      "|2018-01-01 06:57:00|            2018|\n",
      "|2018-01-01 06:58:00|            2018|\n",
      "|2018-01-01 06:58:00|            2018|\n",
      "|2018-01-01 06:59:00|            2018|\n",
      "|2018-01-01 07:00:00|            2018|\n",
      "|2018-01-01 07:02:00|            2018|\n",
      "|2018-01-01 07:02:00|            2018|\n",
      "|2018-01-01 07:03:00|            2018|\n",
      "|2018-01-01 07:04:00|            2018|\n",
      "|2018-01-01 07:04:00|            2018|\n",
      "|2018-01-01 07:05:00|            2018|\n",
      "|2018-01-01 07:06:00|            2018|\n",
      "|2018-01-01 07:06:00|            2018|\n",
      "|2018-01-01 07:07:00|            2018|\n",
      "+-------------------+----------------+\n",
      "only showing top 20 rows\n",
      "\n"
     ]
    }
   ],
   "source": [
    "case.select(\"case_closed_date\", \"case_closed_year\").show()"
   ]
  },
  {
   "cell_type": "code",
   "execution_count": 44,
   "metadata": {},
   "outputs": [
    {
     "data": {
      "text/plain": [
       "[Row(case_closed_date=datetime.datetime(2017, 12, 31, 22, 23), case_closed_year=2017),\n",
       " Row(case_closed_date=datetime.datetime(2017, 12, 31, 22, 26), case_closed_year=2017),\n",
       " Row(case_closed_date=datetime.datetime(2017, 12, 31, 22, 27), case_closed_year=2017),\n",
       " Row(case_closed_date=datetime.datetime(2017, 12, 31, 22, 41), case_closed_year=2017),\n",
       " Row(case_closed_date=datetime.datetime(2017, 12, 31, 22, 44), case_closed_year=2017)]"
      ]
     },
     "execution_count": 44,
     "metadata": {},
     "output_type": "execute_result"
    }
   ],
   "source": [
    "case.select(\"case_closed_date\", \"case_closed_year\").tail(5)"
   ]
  },
  {
   "cell_type": "markdown",
   "metadata": {},
   "source": [
    "## Question 6\n",
    "Convert num_days_late from days to hours in new columns num_hours_late."
   ]
  },
  {
   "cell_type": "code",
   "execution_count": 45,
   "metadata": {},
   "outputs": [],
   "source": [
    "case = case.withColumn(\n",
    "    \"num_hours_late\", expr(\"num_days_late * 24 AS num_hours_late\")\n",
    ")"
   ]
  },
  {
   "cell_type": "code",
   "execution_count": 46,
   "metadata": {},
   "outputs": [
    {
     "name": "stdout",
     "output_type": "stream",
     "text": [
      "+-------------------+-------------------+\n",
      "|      num_days_late|     num_hours_late|\n",
      "+-------------------+-------------------+\n",
      "| -998.5087616000001|     -23964.2102784|\n",
      "|-2.0126041669999997|-48.302500007999996|\n",
      "|       -3.022337963|      -72.536111112|\n",
      "|       -15.01148148|      -360.27555552|\n",
      "|0.37216435200000003|  8.931944448000001|\n",
      "+-------------------+-------------------+\n",
      "only showing top 5 rows\n",
      "\n"
     ]
    }
   ],
   "source": [
    "case.select(\"num_days_late\", \"num_hours_late\").show(5)"
   ]
  },
  {
   "cell_type": "code",
   "execution_count": 47,
   "metadata": {},
   "outputs": [],
   "source": [
    "#case = case.withColumn(\"num_hours_late\", (col(\"num_days_late\") * 24))"
   ]
  },
  {
   "cell_type": "markdown",
   "metadata": {},
   "source": [
    "## Question 7\n",
    "Join the case data with the source and department data."
   ]
  },
  {
   "cell_type": "markdown",
   "metadata": {},
   "source": [
    "Done in the exercises above"
   ]
  },
  {
   "cell_type": "markdown",
   "metadata": {},
   "source": [
    "## Question 8\n",
    "Are there any cases that do not have a request source?"
   ]
  },
  {
   "cell_type": "code",
   "execution_count": 48,
   "metadata": {},
   "outputs": [
    {
     "name": "stdout",
     "output_type": "stream",
     "text": [
      "(0 rows)\n",
      "\n"
     ]
    }
   ],
   "source": [
    "case.filter(col('source_id').isNull()).show(vertical=True)"
   ]
  },
  {
   "cell_type": "markdown",
   "metadata": {},
   "source": [
    "## Question 9\n",
    "What are the top 10 service request types in terms of number of requests?"
   ]
  },
  {
   "cell_type": "code",
   "execution_count": 49,
   "metadata": {},
   "outputs": [
    {
     "name": "stdout",
     "output_type": "stream",
     "text": [
      "+--------------------+-----+\n",
      "|service_request_type|count|\n",
      "+--------------------+-----+\n",
      "|           No Pickup|89210|\n",
      "|Overgrown Yard/Trash|66403|\n",
      "|        Bandit Signs|32968|\n",
      "|        Damaged Cart|31163|\n",
      "|Front Or Side Yar...|28920|\n",
      "|        Stray Animal|27361|\n",
      "|Aggressive Animal...|25492|\n",
      "|Cart Exchange Req...|22608|\n",
      "|Junk Vehicle On P...|21649|\n",
      "|     Pot Hole Repair|20827|\n",
      "+--------------------+-----+\n",
      "only showing top 10 rows\n",
      "\n"
     ]
    }
   ],
   "source": [
    "(case\n",
    "    .groupBy(\"service_request_type\")\n",
    "    .count()\n",
    "    .sort(col(\"count\").desc())\n",
    "    .show(10)\n",
    ")"
   ]
  },
  {
   "cell_type": "markdown",
   "metadata": {},
   "source": [
    "## Question 10\n",
    "What are the top 10 service request types in terms of average days late?"
   ]
  },
  {
   "cell_type": "code",
   "execution_count": 50,
   "metadata": {},
   "outputs": [
    {
     "name": "stdout",
     "output_type": "stream",
     "text": [
      "+--------------------+------------------+\n",
      "|service_request_type|avg(num_days_late)|\n",
      "+--------------------+------------------+\n",
      "|Zoning: Recycle Yard|210.89201994318182|\n",
      "|  Zoning: Junk Yards|200.20517608494276|\n",
      "|Structure/Housing...|190.20707698509804|\n",
      "|Donation Containe...|171.09115313942618|\n",
      "|Storage of Used M...|163.96812829714287|\n",
      "|Labeling for Used...|162.43032902285717|\n",
      "|Record Keeping of...|153.99724039428568|\n",
      "|Signage Requied f...|151.63868055333333|\n",
      "|Traffic Signal Gr...|137.64583330000002|\n",
      "|License Requied U...|128.79828704142858|\n",
      "+--------------------+------------------+\n",
      "only showing top 10 rows\n",
      "\n"
     ]
    }
   ],
   "source": [
    "(case\n",
    "    .where(\"case_late\")\n",
    "    .groupBy(\"service_request_type\")\n",
    "    .mean(\"num_days_late\")\n",
    "    .sort(col(\"avg(num_days_late)\").desc())\n",
    "    .show(10)\n",
    ")"
   ]
  },
  {
   "cell_type": "code",
   "execution_count": 54,
   "metadata": {},
   "outputs": [
    {
     "name": "stdout",
     "output_type": "stream",
     "text": [
      "+--------------------------------------+------------------+-------+\n",
      "|service_request_type                  |n_days_late       |n_cases|\n",
      "+--------------------------------------+------------------+-------+\n",
      "|Zoning: Recycle Yard                  |210.89201994318182|132    |\n",
      "|Zoning: Junk Yards                    |200.20517608494276|262    |\n",
      "|Structure/Housing Maintenance         |190.20707698509804|51     |\n",
      "|Donation Container Enforcement        |171.09115313942618|122    |\n",
      "|Storage of Used Mattress              |163.96812829714287|7      |\n",
      "|Labeling for Used Mattress            |162.43032902285717|7      |\n",
      "|Record Keeping of Used Mattresses     |153.99724039428568|7      |\n",
      "|Signage Requied for Sale of Used Mattr|151.63868055333333|12     |\n",
      "|Traffic Signal Graffiti               |137.64583330000002|4      |\n",
      "|License Requied Used Mattress Sales   |128.79828704142858|7      |\n",
      "+--------------------------------------+------------------+-------+\n",
      "only showing top 10 rows\n",
      "\n"
     ]
    }
   ],
   "source": [
    "# What are the top 10 service request types in terms of average days late?\n",
    "# - just the late cases\n",
    "# - for the late cases:\n",
    "#   - what is the average number of days late by request type?\n",
    "(case\n",
    "    .where('case_late') # just the rows where case_late == true\n",
    "    .groupBy('service_request_type')\n",
    "    .agg(mean('num_days_late').alias('n_days_late'), count('*').alias('n_cases'))\n",
    "    .sort(desc('n_days_late'))\n",
    "    .show(10, truncate=False)\n",
    ")"
   ]
  },
  {
   "cell_type": "markdown",
   "metadata": {},
   "source": [
    "## Question 11\n",
    "Does number of days late depend on department?"
   ]
  },
  {
   "cell_type": "code",
   "execution_count": 61,
   "metadata": {},
   "outputs": [],
   "source": [
    "# (case\n",
    "#     .groupBy(\"department\")\n",
    "#     .mean(\"num_days_late\")\n",
    "#     .sort(col(\"avg(num_days_late)\").desc())\n",
    "#     .show()\n",
    "# )"
   ]
  },
  {
   "cell_type": "code",
   "execution_count": 58,
   "metadata": {},
   "outputs": [
    {
     "name": "stdout",
     "output_type": "stream",
     "text": [
      "+------------------------+---------+------------+\n",
      "|department              |days_late|n_cases_late|\n",
      "+------------------------+---------+------------+\n",
      "|Metro Health            |6.5      |854         |\n",
      "|Solid Waste             |7.1      |33729       |\n",
      "|Trans & Cap Improvements|10.7     |5529        |\n",
      "|Parks & Recreation      |22.4     |3810        |\n",
      "|Animal Care Services    |23.4     |23751       |\n",
      "|DSD/Code Enforcement    |49.5     |26439       |\n",
      "|Customer Service        |88.2     |2035        |\n",
      "+------------------------+---------+------------+\n",
      "\n"
     ]
    }
   ],
   "source": [
    "\n",
    "# Does number of days late depend on department?\n",
    "(case\n",
    "    .filter('case_late')\n",
    "    .groupby('department')\n",
    "    .agg(mean('num_days_late').alias('days_late'), count('num_days_late').alias('n_cases_late'))\n",
    "    .sort('days_late')\n",
    "    .withColumn('days_late', round(col('days_late'), 1))\n",
    "    .show(truncate=False)\n",
    ")"
   ]
  },
  {
   "cell_type": "code",
   "execution_count": 60,
   "metadata": {},
   "outputs": [
    {
     "name": "stdout",
     "output_type": "stream",
     "text": [
      "+------------------------+------+\n",
      "|department              |count |\n",
      "+------------------------+------+\n",
      "|Solid Waste             |286287|\n",
      "|Animal Care Services    |119362|\n",
      "|Trans & Cap Improvements|97841 |\n",
      "|Parks & Recreation      |19964 |\n",
      "|Customer Service        |2889  |\n",
      "|Metro Health            |5313  |\n",
      "|City Council            |34    |\n",
      "|DSD/Code Enforcement    |323579|\n",
      "+------------------------+------+\n",
      "\n"
     ]
    }
   ],
   "source": [
    "case.groupby('department').count().show(truncate=False)"
   ]
  },
  {
   "cell_type": "markdown",
   "metadata": {},
   "source": [
    "## Question 12\n",
    "How do number of days late depend on department and request type?"
   ]
  },
  {
   "cell_type": "code",
   "execution_count": 65,
   "metadata": {},
   "outputs": [],
   "source": [
    "# (case\n",
    "#     .groupBy(\"department\", \"service_request_type\")\n",
    "#     .mean(\"num_days_late\")\n",
    "#     .sort(col(\"avg(num_days_late)\").desc())\n",
    "#     .show()\n",
    "# )"
   ]
  },
  {
   "cell_type": "code",
   "execution_count": 64,
   "metadata": {},
   "outputs": [
    {
     "name": "stdout",
     "output_type": "stream",
     "text": [
      "+--------------------+--------------------------------------------+---------+-------+\n",
      "|department          |service_request_type                        |days_late|n_cases|\n",
      "+--------------------+--------------------------------------------+---------+-------+\n",
      "|DSD/Code Enforcement|Zoning: Recycle Yard                        |273.6    |75     |\n",
      "|DSD/Code Enforcement|Zoning: Junk Yards                          |251.9    |146    |\n",
      "|DSD/Code Enforcement|Donation Container Enforcement              |201.7    |82     |\n",
      "|DSD/Code Enforcement|Structure/Housing Maintenance               |182.4    |30     |\n",
      "|DSD/Code Enforcement|Graffiti: Private Property (Corridors)      |175.1    |3      |\n",
      "|DSD/Code Enforcement|Storage of Used Mattress                    |164.0    |7      |\n",
      "|DSD/Code Enforcement|Labeling for Used Mattress                  |162.4    |7      |\n",
      "|DSD/Code Enforcement|Record Keeping of Used Mattresses           |154.0    |7      |\n",
      "|DSD/Code Enforcement|Signage Requied for Sale of Used Mattr      |151.6    |12     |\n",
      "|DSD/Code Enforcement|License Requied Used Mattress Sales         |128.8    |7      |\n",
      "|DSD/Code Enforcement|Vendors                                     |127.3    |103    |\n",
      "|DSD/Code Enforcement|Curbstoning                                 |121.8    |100    |\n",
      "|DSD/Code Enforcement|DSDB Ordered/Hold Harmless/Regular-ALL      |119.8    |40     |\n",
      "|DSD/Code Enforcement|CPS Energy Wood Poles                       |115.2    |1      |\n",
      "|DSD/Code Enforcement|Used Mattress Inspection                    |108.1    |16     |\n",
      "|DSD/Code Enforcement|DSDB Ordered/Hold Harmless/Regular: Main    |106.4    |86     |\n",
      "|DSD/Code Enforcement|DSDB Ordered/Hold Harmless/Regular: ASEC    |104.7    |41     |\n",
      "|DSD/Code Enforcement|Zoning: Mobile Homes                        |103.8    |5      |\n",
      "|DSD/Code Enforcement|Certificates of Occupancy                   |103.3    |91     |\n",
      "|DSD/Code Enforcement|Zoning: Setbacks                            |98.4     |80     |\n",
      "|DSD/Code Enforcement|Wasting Water (Leaks)                       |91.3     |4      |\n",
      "|DSD/Code Enforcement|Street Light New Development                |91.1     |16     |\n",
      "|DSD/Code Enforcement|Zoning: District Requirement                |89.3     |241    |\n",
      "|DSD/Code Enforcement|Permits Building                            |84.4     |1413   |\n",
      "|DSD/Code Enforcement|Vacant Lot: Over 12\"\"                       |82.1     |1      |\n",
      "|Customer Service    |Complaint                                   |81.5     |939    |\n",
      "|DSD/Code Enforcement|Low Hanging Limbs on Streets/Sidewalk       |78.6     |19     |\n",
      "|Parks & Recreation  |Major Park Improvement Install              |75.8     |17     |\n",
      "|DSD/Code Enforcement|Zoning: Outside Storage                     |74.2     |16     |\n",
      "|DSD/Code Enforcement|Dart Preliminary Inspection                 |74.0     |8      |\n",
      "|DSD/Code Enforcement|Dumpsters: Maintenance/Sanitation           |73.2     |38     |\n",
      "|DSD/Code Enforcement|Used/Scrap Tire Facility Periodic Inspection|72.9     |8      |\n",
      "|DSD/Code Enforcement|\"Vacant Lot-State (12\"\")\"                   |72.1     |2      |\n",
      "|DSD/Code Enforcement|No Address Posted                           |72.0     |754    |\n",
      "|Animal Care Services|Animal Permits Request                      |72.0     |1218   |\n",
      "|Animal Care Services|Public Nuisance(Own Animal)                 |71.2     |976    |\n",
      "|DSD/Code Enforcement|Zoning Business in Resident Area            |70.9     |90     |\n",
      "|DSD/Code Enforcement|Water No Services                           |69.5     |11     |\n",
      "|DSD/Code Enforcement|Discharge Into Pub. Waters/St               |69.3     |1      |\n",
      "|DSD/Code Enforcement|Zoning: Multi-Family In Single              |67.8     |42     |\n",
      "+--------------------+--------------------------------------------+---------+-------+\n",
      "only showing top 40 rows\n",
      "\n"
     ]
    }
   ],
   "source": [
    "(case\n",
    "    .filter(\"case_closed\")\n",
    "    .filter(\"case_late\")\n",
    "    .groupby(\"department\", \"service_request_type\")\n",
    "    .agg(avg(\"num_days_late\").alias(\"days_late\"), count(\"*\").alias(\"n_cases\"))\n",
    "    .withColumn(\"days_late\", round(col(\"days_late\"), 1))\n",
    "    .sort(desc(\"days_late\"))\n",
    "    .show(40, truncate=False)\n",
    ")"
   ]
  },
  {
   "cell_type": "markdown",
   "metadata": {},
   "source": [
    "## Bonus: \n",
    "You might have noticed that the latest date in the dataset is fairly far off from the present day. To account for this, replace any occurances of the current time with the maximum date from the dataset."
   ]
  },
  {
   "cell_type": "markdown",
   "metadata": {},
   "source": [
    "Quick Recap: getting data from spark dataframes:\n",
    "        \n",
    "- .show(n): prints the first n rows. Doesn't produce a value that can be used later\n",
    "- .first: gives us the first row object\n",
    "- .head(n): gives us a list of the first n row objects\n",
    "- .collect(): turns all the rows into a list of row objects be careful here"
   ]
  },
  {
   "cell_type": "code",
   "execution_count": 75,
   "metadata": {},
   "outputs": [
    {
     "data": {
      "text/plain": [
       "[Row(max(case_opened_date)=datetime.datetime(2018, 8, 8, 10, 38), max(case_closed_date)=datetime.datetime(2018, 8, 8, 10, 38))]"
      ]
     },
     "execution_count": 75,
     "metadata": {},
     "output_type": "execute_result"
    }
   ],
   "source": [
    "case.select(max('case_opened_date'), max('case_closed_date')).collect()"
   ]
  },
  {
   "cell_type": "code",
   "execution_count": 76,
   "metadata": {},
   "outputs": [
    {
     "data": {
      "text/plain": [
       "datetime.datetime(2018, 8, 8, 10, 38)"
      ]
     },
     "execution_count": 76,
     "metadata": {},
     "output_type": "execute_result"
    }
   ],
   "source": [
    "max_date = case.select(max('case_opened_date'), max('case_closed_date')).first()[0]\n",
    "max_date"
   ]
  },
  {
   "cell_type": "code",
   "execution_count": 77,
   "metadata": {},
   "outputs": [
    {
     "data": {
      "text/plain": [
       "'2018-08-08 10:38:00'"
      ]
     },
     "execution_count": 77,
     "metadata": {},
     "output_type": "execute_result"
    }
   ],
   "source": [
    "max_date = max_date.strftime('%Y-%m-%d %H:%M:%S')\n",
    "max_date"
   ]
  },
  {
   "cell_type": "code",
   "execution_count": 78,
   "metadata": {},
   "outputs": [],
   "source": [
    "case = (\n",
    "    case.withColumn('case_age', datediff(lit(max_date), 'case_opened_date'))\n",
    "    .withColumn('days_to_closed', datediff('case_closed_date', 'case_opened_date'))\n",
    "    .withColumn('case_lifetime', when(col('case_closed'), col('days_to_closed')).otherwise(col('case_age')))\n",
    "    .drop('case_age', 'days_to_closed')\n",
    ")"
   ]
  },
  {
   "cell_type": "markdown",
   "metadata": {},
   "source": [
    "### Sidebar: Python Code Formatting"
   ]
  },
  {
   "cell_type": "markdown",
   "metadata": {},
   "source": [
    "indentation conveys nesting\n",
    "\n",
    "autoformatting tools remove the discussion"
   ]
  },
  {
   "cell_type": "code",
   "execution_count": null,
   "metadata": {},
   "outputs": [],
   "source": [
    "df = (df.withColumn('case_age', datediff(lit(max_date), 'case_opened_date')).withColumn('days_to_closed', datediff('case_closed_date', 'case_opened_date')).withColumn('case_lifetime', when(col('case_closed'), col('days_to_closed')).otherwise(col('case_age'))).drop('case_age', 'days_to_closed'))"
   ]
  }
 ],
 "metadata": {
  "kernelspec": {
   "display_name": "Python 3",
   "language": "python",
   "name": "python3"
  },
  "language_info": {
   "codemirror_mode": {
    "name": "ipython",
    "version": 3
   },
   "file_extension": ".py",
   "mimetype": "text/x-python",
   "name": "python",
   "nbconvert_exporter": "python",
   "pygments_lexer": "ipython3",
   "version": "3.7.9"
  }
 },
 "nbformat": 4,
 "nbformat_minor": 4
}
